{
 "cells": [
  {
   "cell_type": "code",
   "execution_count": 110,
   "metadata": {},
   "outputs": [],
   "source": [
    "import pandas as pd\n",
    "import time\n",
    "import requests\n",
    "from io import StringIO\n",
    "from rdkit import Chem\n",
    "from rdkit.Chem import Draw, AllChem\n",
    "from collections import Counter\n",
    "from tqdm import tqdm_notebook as tqdm"
   ]
  },
  {
   "cell_type": "code",
   "execution_count": 2,
   "metadata": {},
   "outputs": [
    {
     "data": {
      "text/html": [
       "<div>\n",
       "<style scoped>\n",
       "    .dataframe tbody tr th:only-of-type {\n",
       "        vertical-align: middle;\n",
       "    }\n",
       "\n",
       "    .dataframe tbody tr th {\n",
       "        vertical-align: top;\n",
       "    }\n",
       "\n",
       "    .dataframe thead th {\n",
       "        text-align: right;\n",
       "    }\n",
       "</style>\n",
       "<table border=\"1\" class=\"dataframe\">\n",
       "  <thead>\n",
       "    <tr style=\"text-align: right;\">\n",
       "      <th></th>\n",
       "      <th>smiles</th>\n",
       "      <th>dat</th>\n",
       "      <th>id</th>\n",
       "    </tr>\n",
       "  </thead>\n",
       "  <tbody>\n",
       "    <tr>\n",
       "      <th>0</th>\n",
       "      <td>c1ccc2cc(c(cc2c1)NC(=O)c3cc(ccn3)N(=O)=O)Oc4cc...</td>\n",
       "      <td>220668</td>\n",
       "      <td>CHEMBL134802</td>\n",
       "    </tr>\n",
       "    <tr>\n",
       "      <th>1</th>\n",
       "      <td>CC1=C(C(C(=C(N1Cc2ccc(cc2)Cl)C(=O)O)C(=O)O)c3c...</td>\n",
       "      <td>189331</td>\n",
       "      <td>CHEMBL115651</td>\n",
       "    </tr>\n",
       "    <tr>\n",
       "      <th>2</th>\n",
       "      <td>CCN1C(=C(C(C(=C1C(=O)O)C(=O)O)c2ccccc2Cl)C(=O)...</td>\n",
       "      <td>188996</td>\n",
       "      <td>CHEMBL113736</td>\n",
       "    </tr>\n",
       "    <tr>\n",
       "      <th>3</th>\n",
       "      <td>c1cc(c(c(c1)F)NC(=O)c2cc(ccn2)N(=O)=O)Oc3ccc(c...</td>\n",
       "      <td>219845</td>\n",
       "      <td>CHEMBL133911</td>\n",
       "    </tr>\n",
       "    <tr>\n",
       "      <th>4</th>\n",
       "      <td>CC1=C(C(C(=C(N1Cc2cccc(c2)N(=O)=O)C(=O)O)C(=O)...</td>\n",
       "      <td>189034</td>\n",
       "      <td>CHEMBL423509</td>\n",
       "    </tr>\n",
       "  </tbody>\n",
       "</table>\n",
       "</div>"
      ],
      "text/plain": [
       "                                              smiles     dat            id\n",
       "0  c1ccc2cc(c(cc2c1)NC(=O)c3cc(ccn3)N(=O)=O)Oc4cc...  220668  CHEMBL134802\n",
       "1  CC1=C(C(C(=C(N1Cc2ccc(cc2)Cl)C(=O)O)C(=O)O)c3c...  189331  CHEMBL115651\n",
       "2  CCN1C(=C(C(C(=C1C(=O)O)C(=O)O)c2ccccc2Cl)C(=O)...  188996  CHEMBL113736\n",
       "3  c1cc(c(c(c1)F)NC(=O)c2cc(ccn2)N(=O)=O)Oc3ccc(c...  219845  CHEMBL133911\n",
       "4  CC1=C(C(C(=C(N1Cc2cccc(c2)N(=O)=O)C(=O)O)C(=O)...  189034  CHEMBL423509"
      ]
     },
     "execution_count": 2,
     "metadata": {},
     "output_type": "execute_result"
    }
   ],
   "source": [
    "colnames = ['smiles', 'dat', 'id']\n",
    "df_act = pd.read_csv('pygm_1c8k_actives.ism', sep=' ', names=colnames)\n",
    "df_act.head()"
   ]
  },
  {
   "cell_type": "code",
   "execution_count": 4,
   "metadata": {},
   "outputs": [
    {
     "data": {
      "text/plain": [
       "77"
      ]
     },
     "execution_count": 4,
     "metadata": {},
     "output_type": "execute_result"
    }
   ],
   "source": [
    "len(df_act)"
   ]
  },
  {
   "cell_type": "code",
   "execution_count": 7,
   "metadata": {},
   "outputs": [],
   "source": [
    "# similarity search against pubchem\n",
    "# count number of times compound is returned as hit\n",
    "\n",
    "smiles_act = df_act['smiles']\n",
    "prolog = 'https://pubchem.ncbi.nlm.nih.gov/rest/pug'\n",
    "\n",
    "cids_hit = {}\n",
    "\n",
    "for idx, smile in enumerate(smiles_act):\n",
    "    \n",
    "    data = {'smiles' : smile}\n",
    "    \n",
    "    url = prolog + '/compound/fastsimilarity_2d/smiles/cids/txt'\n",
    "    res = requests.post(url, data=data)\n",
    "    \n",
    "    if res.status_code == 200:\n",
    "        cids = res.text.split()\n",
    "        cids = map(int, cids)\n",
    "        \n",
    "    else:\n",
    "        print('error at {} : {} {}'.format(idx, df_act.loc[idx, 'id'], smile))\n",
    "        print(res.status_code)\n",
    "        print(res.content)\n",
    "        \n",
    "    for cid in cids:\n",
    "        cids_hit[cid] = cids_hit.get(cid, 0) + 1\n",
    "        \n",
    "    time.sleep(0.2)\n",
    "    "
   ]
  },
  {
   "cell_type": "code",
   "execution_count": 8,
   "metadata": {},
   "outputs": [
    {
     "data": {
      "text/plain": [
       "25025"
      ]
     },
     "execution_count": 8,
     "metadata": {},
     "output_type": "execute_result"
    }
   ],
   "source": [
    "len(cids_hit)"
   ]
  },
  {
   "cell_type": "code",
   "execution_count": 13,
   "metadata": {},
   "outputs": [
    {
     "name": "stdout",
     "output_type": "stream",
     "text": [
      "16 44354348\n",
      "15 44354370\n",
      "15 44354349\n",
      "15 44354322\n",
      "13 44357907\n",
      "12 44354455\n",
      "12 44354454\n",
      "12 44354362\n",
      "12 44354301\n",
      "12 44354350\n"
     ]
    }
   ],
   "source": [
    "# top 10 hits\n",
    "sorted_by_freq = sorted(cids_hit.items(), key = lambda x: x[1], reverse=True)\n",
    "\n",
    "for i, (k, v)  in enumerate(sorted_by_freq):\n",
    "    if i == 10:\n",
    "        break\n",
    "    print(v, k)"
   ]
  },
  {
   "cell_type": "code",
   "execution_count": 15,
   "metadata": {},
   "outputs": [],
   "source": [
    "# exlude the query compound from the hits\n",
    "\n",
    "cids_query = {}\n",
    "\n",
    "for idx, smile in enumerate(smiles_act):\n",
    "    \n",
    "    data = {'smiles' : smile}\n",
    "    url = prolog + '/compound/fastidentity/smiles/cids/txt?identity_type=same_connectivity'\n",
    "    res = requests.post(url, data=data)\n",
    "    \n",
    "    if res.status_code == 200:\n",
    "        cids = res.text.split()\n",
    "        cids = map(int, cids)\n",
    "        \n",
    "    else:\n",
    "        print('error at {} : {} {}'.format(idx, df_act.loc[idx, 'id'], smile))\n",
    "        print(res.status_code)\n",
    "        print(res.content)\n",
    "        \n",
    "    for cid in cids:\n",
    "        cids_query[cid] = cids_query.get(cid, 0) + 1\n",
    "        \n",
    "    time.sleep(0.2)"
   ]
  },
  {
   "cell_type": "code",
   "execution_count": 16,
   "metadata": {},
   "outputs": [
    {
     "data": {
      "text/plain": [
       "134"
      ]
     },
     "execution_count": 16,
     "metadata": {},
     "output_type": "execute_result"
    }
   ],
   "source": [
    "len(cids_query.keys())"
   ]
  },
  {
   "cell_type": "code",
   "execution_count": 17,
   "metadata": {},
   "outputs": [],
   "source": [
    "# remove query compound\n",
    "for cid in cids_query.keys():\n",
    "    cids_hit.pop(cid, None)"
   ]
  },
  {
   "cell_type": "code",
   "execution_count": 18,
   "metadata": {},
   "outputs": [
    {
     "data": {
      "text/plain": [
       "24891"
      ]
     },
     "execution_count": 18,
     "metadata": {},
     "output_type": "execute_result"
    }
   ],
   "source": [
    "len(cids_hit)"
   ]
  },
  {
   "cell_type": "code",
   "execution_count": 19,
   "metadata": {},
   "outputs": [
    {
     "name": "stdout",
     "output_type": "stream",
     "text": [
      "12 11779854\n",
      "11 118078858\n",
      "11 141135915\n",
      "11 17600716\n",
      "11 45369696\n",
      "11 51808718\n",
      "11 53013349\n",
      "11 93077064\n",
      "11 93077065\n",
      "10 44358150\n"
     ]
    }
   ],
   "source": [
    "sorted_by_freq = sorted(cids_hit.items(), key = lambda x: x[1], reverse=True)\n",
    "for i, (k, v) in enumerate(sorted_by_freq):\n",
    "    \n",
    "    if i == 10:\n",
    "        break\n",
    "    \n",
    "    print(v, k)"
   ]
  },
  {
   "cell_type": "code",
   "execution_count": 22,
   "metadata": {},
   "outputs": [
    {
     "name": "stdout",
     "output_type": "stream",
     "text": [
      "# number of chunks: 249\n",
      "0 1 2 3 4 5 6 7 8 9 10 11 12 13 14 15 16 17 18 19 20 21 22 23 24 25 26 27 28 29 30 31 32 33 34 35 36 37 38 39 40 41 42 43 44 45 46 47 48 49 50 51 52 53 54 55 56 57 58 59 60 61 62 63 64 65 66 67 68 69 70 71 72 73 74 75 76 77 78 79 80 81 82 83 84 85 86 87 88 89 90 91 92 93 94 95 96 97 98 99 100 101 102 103 104 105 106 107 108 109 110 111 112 113 114 115 116 117 118 119 120 121 122 123 124 125 126 127 128 129 130 131 132 133 134 135 136 137 138 139 140 141 142 143 144 145 146 147 148 149 150 151 152 153 154 155 156 157 158 159 160 161 162 163 164 165 166 167 168 169 170 171 172 173 174 175 176 177 178 179 180 181 182 183 184 185 186 187 188 189 190 191 192 193 194 195 196 197 198 199 200 201 202 203 204 205 206 207 208 209 210 211 212 213 214 215 216 217 218 219 220 221 222 223 224 225 226 227 228 229 230 231 232 233 234 235 236 237 238 239 240 241 242 243 244 245 246 247 248 "
     ]
    }
   ],
   "source": [
    "# filter out non-drug-like compounds\n",
    "\n",
    "chunk_size = 100\n",
    "\n",
    "if len(cids_hit) % chunk_size == 0:\n",
    "    num_chunks = len(cids_hit) // chunk_size\n",
    "else:\n",
    "    num_chunks = len(cids_hit) // chunk_size + 1\n",
    "    \n",
    "cids_list = list(cids_hit.keys())\n",
    "\n",
    "print('# number of chunks:', num_chunks)\n",
    "\n",
    "csv = ''\n",
    "\n",
    "for i in range(num_chunks):\n",
    "    print(i, end=' ')\n",
    "    \n",
    "    idx1 = chunk_size * i\n",
    "    idx2 = chunk_size * (i+1)\n",
    "    \n",
    "    cids_str = ','.join(map(str, cids_list[idx1:idx2]))\n",
    "    url = prolog + f'/compound/cid/{cids_str}/property/hbonddonorcount,hbondacceptorcount,molecularweight,xlogp,canonicalsmiles,isomericsmiles/csv'\n",
    "    res = requests.get(url)\n",
    "    \n",
    "    if i == 0:\n",
    "        csv = res.text\n",
    "    else:\n",
    "        csv = csv + '\\n'.join(res.text.split()[1:]) + '\\n'\n",
    "        \n",
    "    time.sleep(0.2)"
   ]
  },
  {
   "cell_type": "code",
   "execution_count": 24,
   "metadata": {},
   "outputs": [
    {
     "data": {
      "text/plain": [
       "(24891, 7)"
      ]
     },
     "execution_count": 24,
     "metadata": {},
     "output_type": "execute_result"
    }
   ],
   "source": [
    "csv_file = StringIO(csv)\n",
    "df_raw = pd.read_csv(csv_file, sep=',')\n",
    "df_raw.shape"
   ]
  },
  {
   "cell_type": "code",
   "execution_count": 25,
   "metadata": {},
   "outputs": [
    {
     "data": {
      "text/html": [
       "<div>\n",
       "<style scoped>\n",
       "    .dataframe tbody tr th:only-of-type {\n",
       "        vertical-align: middle;\n",
       "    }\n",
       "\n",
       "    .dataframe tbody tr th {\n",
       "        vertical-align: top;\n",
       "    }\n",
       "\n",
       "    .dataframe thead th {\n",
       "        text-align: right;\n",
       "    }\n",
       "</style>\n",
       "<table border=\"1\" class=\"dataframe\">\n",
       "  <thead>\n",
       "    <tr style=\"text-align: right;\">\n",
       "      <th></th>\n",
       "      <th>CID</th>\n",
       "      <th>HBondDonorCount</th>\n",
       "      <th>HBondAcceptorCount</th>\n",
       "      <th>MolecularWeight</th>\n",
       "      <th>XLogP</th>\n",
       "      <th>CanonicalSMILES</th>\n",
       "      <th>IsomericSMILES</th>\n",
       "    </tr>\n",
       "  </thead>\n",
       "  <tbody>\n",
       "    <tr>\n",
       "      <th>0</th>\n",
       "      <td>1731763</td>\n",
       "      <td>0</td>\n",
       "      <td>5</td>\n",
       "      <td>454.0</td>\n",
       "      <td>5.5</td>\n",
       "      <td>CCOC(=O)C1=C(N(C(=C(C1C2=CC=C(C=C2)Cl)C(=O)OCC...</td>\n",
       "      <td>CCOC(=O)C1=C(N(C(=C(C1C2=CC=C(C=C2)Cl)C(=O)OCC...</td>\n",
       "    </tr>\n",
       "    <tr>\n",
       "      <th>1</th>\n",
       "      <td>21795259</td>\n",
       "      <td>0</td>\n",
       "      <td>5</td>\n",
       "      <td>454.0</td>\n",
       "      <td>5.5</td>\n",
       "      <td>CCOC(=O)C1=C(N(C(=C(C1C2=CC=CC=C2Cl)C(=O)OCC)C...</td>\n",
       "      <td>CCOC(=O)C1=C(N(C(=C(C1C2=CC=CC=C2Cl)C(=O)OCC)C...</td>\n",
       "    </tr>\n",
       "    <tr>\n",
       "      <th>2</th>\n",
       "      <td>9910160</td>\n",
       "      <td>3</td>\n",
       "      <td>4</td>\n",
       "      <td>422.9</td>\n",
       "      <td>4.4</td>\n",
       "      <td>CC1=C(C(C(=C(N1)C)C(=O)O)C2=CC(=CC=C2)Cl)C(=O)...</td>\n",
       "      <td>CC1=C(C(C(=C(N1)C)C(=O)O)C2=CC(=CC=C2)Cl)C(=O)...</td>\n",
       "    </tr>\n",
       "    <tr>\n",
       "      <th>3</th>\n",
       "      <td>70157737</td>\n",
       "      <td>2</td>\n",
       "      <td>4</td>\n",
       "      <td>436.9</td>\n",
       "      <td>4.6</td>\n",
       "      <td>CC1=C(C(C(=C(N1)C)C(=O)O)C2=CC(=CC=C2)Cl)C(=O)...</td>\n",
       "      <td>CC1=C(C(C(=C(N1)C)C(=O)O)C2=CC(=CC=C2)Cl)C(=O)...</td>\n",
       "    </tr>\n",
       "    <tr>\n",
       "      <th>4</th>\n",
       "      <td>70074958</td>\n",
       "      <td>2</td>\n",
       "      <td>6</td>\n",
       "      <td>448.9</td>\n",
       "      <td>3.9</td>\n",
       "      <td>CC1=C(C(C(=C(N1)C)C(=O)OC)C2=CC=CC=C2Cl)C(=O)N...</td>\n",
       "      <td>CC1=C([C@@H](C(=C(N1)C)C(=O)OC)C2=CC=CC=C2Cl)C...</td>\n",
       "    </tr>\n",
       "  </tbody>\n",
       "</table>\n",
       "</div>"
      ],
      "text/plain": [
       "        CID  HBondDonorCount  HBondAcceptorCount  MolecularWeight  XLogP  \\\n",
       "0   1731763                0                   5            454.0    5.5   \n",
       "1  21795259                0                   5            454.0    5.5   \n",
       "2   9910160                3                   4            422.9    4.4   \n",
       "3  70157737                2                   4            436.9    4.6   \n",
       "4  70074958                2                   6            448.9    3.9   \n",
       "\n",
       "                                     CanonicalSMILES  \\\n",
       "0  CCOC(=O)C1=C(N(C(=C(C1C2=CC=C(C=C2)Cl)C(=O)OCC...   \n",
       "1  CCOC(=O)C1=C(N(C(=C(C1C2=CC=CC=C2Cl)C(=O)OCC)C...   \n",
       "2  CC1=C(C(C(=C(N1)C)C(=O)O)C2=CC(=CC=C2)Cl)C(=O)...   \n",
       "3  CC1=C(C(C(=C(N1)C)C(=O)O)C2=CC(=CC=C2)Cl)C(=O)...   \n",
       "4  CC1=C(C(C(=C(N1)C)C(=O)OC)C2=CC=CC=C2Cl)C(=O)N...   \n",
       "\n",
       "                                      IsomericSMILES  \n",
       "0  CCOC(=O)C1=C(N(C(=C(C1C2=CC=C(C=C2)Cl)C(=O)OCC...  \n",
       "1  CCOC(=O)C1=C(N(C(=C(C1C2=CC=CC=C2Cl)C(=O)OCC)C...  \n",
       "2  CC1=C(C(C(=C(N1)C)C(=O)O)C2=CC(=CC=C2)Cl)C(=O)...  \n",
       "3  CC1=C(C(C(=C(N1)C)C(=O)O)C2=CC(=CC=C2)Cl)C(=O)...  \n",
       "4  CC1=C([C@@H](C(=C(N1)C)C(=O)OC)C2=CC=CC=C2Cl)C...  "
      ]
     },
     "execution_count": 25,
     "metadata": {},
     "output_type": "execute_result"
    }
   ],
   "source": [
    "df_raw.head()"
   ]
  },
  {
   "cell_type": "code",
   "execution_count": 26,
   "metadata": {},
   "outputs": [
    {
     "data": {
      "text/plain": [
       "CID                     0\n",
       "HBondDonorCount         0\n",
       "HBondAcceptorCount      0\n",
       "MolecularWeight         0\n",
       "XLogP                 716\n",
       "CanonicalSMILES         0\n",
       "IsomericSMILES          0\n",
       "dtype: int64"
      ]
     },
     "execution_count": 26,
     "metadata": {},
     "output_type": "execute_result"
    }
   ],
   "source": [
    "# chekc na\n",
    "df_raw.isna().sum()"
   ]
  },
  {
   "cell_type": "code",
   "execution_count": 27,
   "metadata": {},
   "outputs": [
    {
     "data": {
      "text/plain": [
       "24891"
      ]
     },
     "execution_count": 27,
     "metadata": {},
     "output_type": "execute_result"
    }
   ],
   "source": [
    "len(df_raw)"
   ]
  },
  {
   "cell_type": "code",
   "execution_count": 46,
   "metadata": {},
   "outputs": [
    {
     "data": {
      "text/html": [
       "<div>\n",
       "<style scoped>\n",
       "    .dataframe tbody tr th:only-of-type {\n",
       "        vertical-align: middle;\n",
       "    }\n",
       "\n",
       "    .dataframe tbody tr th {\n",
       "        vertical-align: top;\n",
       "    }\n",
       "\n",
       "    .dataframe thead th {\n",
       "        text-align: right;\n",
       "    }\n",
       "</style>\n",
       "<table border=\"1\" class=\"dataframe\">\n",
       "  <thead>\n",
       "    <tr style=\"text-align: right;\">\n",
       "      <th></th>\n",
       "      <th>CID</th>\n",
       "      <th>hitfreq</th>\n",
       "    </tr>\n",
       "  </thead>\n",
       "  <tbody>\n",
       "    <tr>\n",
       "      <th>0</th>\n",
       "      <td>1731763</td>\n",
       "      <td>2</td>\n",
       "    </tr>\n",
       "    <tr>\n",
       "      <th>1</th>\n",
       "      <td>21795259</td>\n",
       "      <td>4</td>\n",
       "    </tr>\n",
       "    <tr>\n",
       "      <th>2</th>\n",
       "      <td>9910160</td>\n",
       "      <td>3</td>\n",
       "    </tr>\n",
       "    <tr>\n",
       "      <th>3</th>\n",
       "      <td>70157737</td>\n",
       "      <td>3</td>\n",
       "    </tr>\n",
       "    <tr>\n",
       "      <th>4</th>\n",
       "      <td>70074958</td>\n",
       "      <td>3</td>\n",
       "    </tr>\n",
       "  </tbody>\n",
       "</table>\n",
       "</div>"
      ],
      "text/plain": [
       "        CID  hitfreq\n",
       "0   1731763        2\n",
       "1  21795259        4\n",
       "2   9910160        3\n",
       "3  70157737        3\n",
       "4  70074958        3"
      ]
     },
     "execution_count": 46,
     "metadata": {},
     "output_type": "execute_result"
    }
   ],
   "source": [
    "df_freq = pd.DataFrame.from_dict(cids_hit, orient='index').reset_index()\n",
    "df_freq.columns = ['CID', 'hitfreq']\n",
    "df_freq.head()"
   ]
  },
  {
   "cell_type": "code",
   "execution_count": 47,
   "metadata": {},
   "outputs": [
    {
     "data": {
      "text/html": [
       "<div>\n",
       "<style scoped>\n",
       "    .dataframe tbody tr th:only-of-type {\n",
       "        vertical-align: middle;\n",
       "    }\n",
       "\n",
       "    .dataframe tbody tr th {\n",
       "        vertical-align: top;\n",
       "    }\n",
       "\n",
       "    .dataframe thead th {\n",
       "        text-align: right;\n",
       "    }\n",
       "</style>\n",
       "<table border=\"1\" class=\"dataframe\">\n",
       "  <thead>\n",
       "    <tr style=\"text-align: right;\">\n",
       "      <th></th>\n",
       "      <th>CID</th>\n",
       "      <th>hitfreq</th>\n",
       "    </tr>\n",
       "  </thead>\n",
       "  <tbody>\n",
       "    <tr>\n",
       "      <th>1035</th>\n",
       "      <td>11779854</td>\n",
       "      <td>12</td>\n",
       "    </tr>\n",
       "    <tr>\n",
       "      <th>1232</th>\n",
       "      <td>141135915</td>\n",
       "      <td>11</td>\n",
       "    </tr>\n",
       "    <tr>\n",
       "      <th>385</th>\n",
       "      <td>118078858</td>\n",
       "      <td>11</td>\n",
       "    </tr>\n",
       "    <tr>\n",
       "      <th>2829</th>\n",
       "      <td>93077065</td>\n",
       "      <td>11</td>\n",
       "    </tr>\n",
       "    <tr>\n",
       "      <th>2828</th>\n",
       "      <td>93077064</td>\n",
       "      <td>11</td>\n",
       "    </tr>\n",
       "    <tr>\n",
       "      <th>2182</th>\n",
       "      <td>53013349</td>\n",
       "      <td>11</td>\n",
       "    </tr>\n",
       "    <tr>\n",
       "      <th>2141</th>\n",
       "      <td>51808718</td>\n",
       "      <td>11</td>\n",
       "    </tr>\n",
       "    <tr>\n",
       "      <th>1909</th>\n",
       "      <td>45369696</td>\n",
       "      <td>11</td>\n",
       "    </tr>\n",
       "    <tr>\n",
       "      <th>1671</th>\n",
       "      <td>17600716</td>\n",
       "      <td>11</td>\n",
       "    </tr>\n",
       "    <tr>\n",
       "      <th>1123</th>\n",
       "      <td>145780788</td>\n",
       "      <td>10</td>\n",
       "    </tr>\n",
       "  </tbody>\n",
       "</table>\n",
       "</div>"
      ],
      "text/plain": [
       "            CID  hitfreq\n",
       "1035   11779854       12\n",
       "1232  141135915       11\n",
       "385   118078858       11\n",
       "2829   93077065       11\n",
       "2828   93077064       11\n",
       "2182   53013349       11\n",
       "2141   51808718       11\n",
       "1909   45369696       11\n",
       "1671   17600716       11\n",
       "1123  145780788       10"
      ]
     },
     "execution_count": 47,
     "metadata": {},
     "output_type": "execute_result"
    }
   ],
   "source": [
    "df_freq.sort_values(by=['hitfreq', 'CID'], ascending=False).head(10)"
   ]
  },
  {
   "cell_type": "code",
   "execution_count": 50,
   "metadata": {},
   "outputs": [
    {
     "data": {
      "text/plain": [
       "(24891, 8)"
      ]
     },
     "execution_count": 50,
     "metadata": {},
     "output_type": "execute_result"
    }
   ],
   "source": [
    "df = df_raw.join(df_freq.set_index('CID'), on='CID')\n",
    "df.shape"
   ]
  },
  {
   "cell_type": "code",
   "execution_count": 51,
   "metadata": {},
   "outputs": [
    {
     "data": {
      "text/html": [
       "<div>\n",
       "<style scoped>\n",
       "    .dataframe tbody tr th:only-of-type {\n",
       "        vertical-align: middle;\n",
       "    }\n",
       "\n",
       "    .dataframe tbody tr th {\n",
       "        vertical-align: top;\n",
       "    }\n",
       "\n",
       "    .dataframe thead th {\n",
       "        text-align: right;\n",
       "    }\n",
       "</style>\n",
       "<table border=\"1\" class=\"dataframe\">\n",
       "  <thead>\n",
       "    <tr style=\"text-align: right;\">\n",
       "      <th></th>\n",
       "      <th>CID</th>\n",
       "      <th>HBondDonorCount</th>\n",
       "      <th>HBondAcceptorCount</th>\n",
       "      <th>MolecularWeight</th>\n",
       "      <th>XLogP</th>\n",
       "      <th>CanonicalSMILES</th>\n",
       "      <th>IsomericSMILES</th>\n",
       "      <th>hitfreq</th>\n",
       "    </tr>\n",
       "  </thead>\n",
       "  <tbody>\n",
       "    <tr>\n",
       "      <th>1035</th>\n",
       "      <td>11779854</td>\n",
       "      <td>3</td>\n",
       "      <td>2</td>\n",
       "      <td>305.3</td>\n",
       "      <td>2.6</td>\n",
       "      <td>C1C(C(=O)NC2=CC=CC=C21)NC(=O)C3=CC4=CC=CC=C4N3</td>\n",
       "      <td>C1C(C(=O)NC2=CC=CC=C21)NC(=O)C3=CC4=CC=CC=C4N3</td>\n",
       "      <td>12</td>\n",
       "    </tr>\n",
       "    <tr>\n",
       "      <th>1232</th>\n",
       "      <td>141135915</td>\n",
       "      <td>1</td>\n",
       "      <td>1</td>\n",
       "      <td>290.4</td>\n",
       "      <td>4.2</td>\n",
       "      <td>CC1CCC2=CC=CC=C2N1C(=O)C3=CC4=CC=CC=C4N3</td>\n",
       "      <td>CC1CCC2=CC=CC=C2N1C(=O)C3=CC4=CC=CC=C4N3</td>\n",
       "      <td>11</td>\n",
       "    </tr>\n",
       "    <tr>\n",
       "      <th>385</th>\n",
       "      <td>118078858</td>\n",
       "      <td>1</td>\n",
       "      <td>2</td>\n",
       "      <td>333.4</td>\n",
       "      <td>3.0</td>\n",
       "      <td>CC1CN(C2=CC=CC=C2N1C(=O)C)C(=O)C3=CC4=CC=CC=C4N3</td>\n",
       "      <td>C[C@H]1CN(C2=CC=CC=C2N1C(=O)C)C(=O)C3=CC4=CC=C...</td>\n",
       "      <td>11</td>\n",
       "    </tr>\n",
       "    <tr>\n",
       "      <th>2829</th>\n",
       "      <td>93077065</td>\n",
       "      <td>2</td>\n",
       "      <td>2</td>\n",
       "      <td>409.5</td>\n",
       "      <td>4.8</td>\n",
       "      <td>C1CC2=CC=CC=C2N(C1)C(=O)C(C3=CC=CC=C3)NC(=O)C4...</td>\n",
       "      <td>C1CC2=CC=CC=C2N(C1)C(=O)[C@@H](C3=CC=CC=C3)NC(...</td>\n",
       "      <td>11</td>\n",
       "    </tr>\n",
       "    <tr>\n",
       "      <th>2828</th>\n",
       "      <td>93077064</td>\n",
       "      <td>2</td>\n",
       "      <td>2</td>\n",
       "      <td>409.5</td>\n",
       "      <td>4.8</td>\n",
       "      <td>C1CC2=CC=CC=C2N(C1)C(=O)C(C3=CC=CC=C3)NC(=O)C4...</td>\n",
       "      <td>C1CC2=CC=CC=C2N(C1)C(=O)[C@H](C3=CC=CC=C3)NC(=...</td>\n",
       "      <td>11</td>\n",
       "    </tr>\n",
       "    <tr>\n",
       "      <th>2182</th>\n",
       "      <td>53013349</td>\n",
       "      <td>2</td>\n",
       "      <td>2</td>\n",
       "      <td>409.5</td>\n",
       "      <td>4.8</td>\n",
       "      <td>C1CC2=CC=CC=C2N(C1)C(=O)C(C3=CC=CC=C3)NC(=O)C4...</td>\n",
       "      <td>C1CC2=CC=CC=C2N(C1)C(=O)C(C3=CC=CC=C3)NC(=O)C4...</td>\n",
       "      <td>11</td>\n",
       "    </tr>\n",
       "    <tr>\n",
       "      <th>2141</th>\n",
       "      <td>51808718</td>\n",
       "      <td>2</td>\n",
       "      <td>3</td>\n",
       "      <td>390.5</td>\n",
       "      <td>2.9</td>\n",
       "      <td>CC(C(=O)N1CCN(CC1)CC2=CC=CC=C2)NC(=O)C3=CC4=CC...</td>\n",
       "      <td>C[C@H](C(=O)N1CCN(CC1)CC2=CC=CC=C2)NC(=O)C3=CC...</td>\n",
       "      <td>11</td>\n",
       "    </tr>\n",
       "    <tr>\n",
       "      <th>1909</th>\n",
       "      <td>45369696</td>\n",
       "      <td>2</td>\n",
       "      <td>3</td>\n",
       "      <td>390.5</td>\n",
       "      <td>2.9</td>\n",
       "      <td>CC(C(=O)N1CCN(CC1)CC2=CC=CC=C2)NC(=O)C3=CC4=CC...</td>\n",
       "      <td>CC(C(=O)N1CCN(CC1)CC2=CC=CC=C2)NC(=O)C3=CC4=CC...</td>\n",
       "      <td>11</td>\n",
       "    </tr>\n",
       "    <tr>\n",
       "      <th>1671</th>\n",
       "      <td>17600716</td>\n",
       "      <td>2</td>\n",
       "      <td>3</td>\n",
       "      <td>390.5</td>\n",
       "      <td>2.9</td>\n",
       "      <td>CC(C(=O)N1CCN(CC1)CC2=CC=CC=C2)NC(=O)C3=CC4=CC...</td>\n",
       "      <td>C[C@@H](C(=O)N1CCN(CC1)CC2=CC=CC=C2)NC(=O)C3=C...</td>\n",
       "      <td>11</td>\n",
       "    </tr>\n",
       "    <tr>\n",
       "      <th>1123</th>\n",
       "      <td>145780788</td>\n",
       "      <td>1</td>\n",
       "      <td>2</td>\n",
       "      <td>437.5</td>\n",
       "      <td>5.3</td>\n",
       "      <td>CCC(=O)N(C1CC(N(C2=CC=CC=C12)C(=O)C3=CC4=CC=CC...</td>\n",
       "      <td>CCC(=O)N([C@@H]1C[C@@H](N(C2=CC=CC=C12)C(=O)C3...</td>\n",
       "      <td>10</td>\n",
       "    </tr>\n",
       "  </tbody>\n",
       "</table>\n",
       "</div>"
      ],
      "text/plain": [
       "            CID  HBondDonorCount  HBondAcceptorCount  MolecularWeight  XLogP  \\\n",
       "1035   11779854                3                   2            305.3    2.6   \n",
       "1232  141135915                1                   1            290.4    4.2   \n",
       "385   118078858                1                   2            333.4    3.0   \n",
       "2829   93077065                2                   2            409.5    4.8   \n",
       "2828   93077064                2                   2            409.5    4.8   \n",
       "2182   53013349                2                   2            409.5    4.8   \n",
       "2141   51808718                2                   3            390.5    2.9   \n",
       "1909   45369696                2                   3            390.5    2.9   \n",
       "1671   17600716                2                   3            390.5    2.9   \n",
       "1123  145780788                1                   2            437.5    5.3   \n",
       "\n",
       "                                        CanonicalSMILES  \\\n",
       "1035     C1C(C(=O)NC2=CC=CC=C21)NC(=O)C3=CC4=CC=CC=C4N3   \n",
       "1232           CC1CCC2=CC=CC=C2N1C(=O)C3=CC4=CC=CC=C4N3   \n",
       "385    CC1CN(C2=CC=CC=C2N1C(=O)C)C(=O)C3=CC4=CC=CC=C4N3   \n",
       "2829  C1CC2=CC=CC=C2N(C1)C(=O)C(C3=CC=CC=C3)NC(=O)C4...   \n",
       "2828  C1CC2=CC=CC=C2N(C1)C(=O)C(C3=CC=CC=C3)NC(=O)C4...   \n",
       "2182  C1CC2=CC=CC=C2N(C1)C(=O)C(C3=CC=CC=C3)NC(=O)C4...   \n",
       "2141  CC(C(=O)N1CCN(CC1)CC2=CC=CC=C2)NC(=O)C3=CC4=CC...   \n",
       "1909  CC(C(=O)N1CCN(CC1)CC2=CC=CC=C2)NC(=O)C3=CC4=CC...   \n",
       "1671  CC(C(=O)N1CCN(CC1)CC2=CC=CC=C2)NC(=O)C3=CC4=CC...   \n",
       "1123  CCC(=O)N(C1CC(N(C2=CC=CC=C12)C(=O)C3=CC4=CC=CC...   \n",
       "\n",
       "                                         IsomericSMILES  hitfreq  \n",
       "1035     C1C(C(=O)NC2=CC=CC=C21)NC(=O)C3=CC4=CC=CC=C4N3       12  \n",
       "1232           CC1CCC2=CC=CC=C2N1C(=O)C3=CC4=CC=CC=C4N3       11  \n",
       "385   C[C@H]1CN(C2=CC=CC=C2N1C(=O)C)C(=O)C3=CC4=CC=C...       11  \n",
       "2829  C1CC2=CC=CC=C2N(C1)C(=O)[C@@H](C3=CC=CC=C3)NC(...       11  \n",
       "2828  C1CC2=CC=CC=C2N(C1)C(=O)[C@H](C3=CC=CC=C3)NC(=...       11  \n",
       "2182  C1CC2=CC=CC=C2N(C1)C(=O)C(C3=CC=CC=C3)NC(=O)C4...       11  \n",
       "2141  C[C@H](C(=O)N1CCN(CC1)CC2=CC=CC=C2)NC(=O)C3=CC...       11  \n",
       "1909  CC(C(=O)N1CCN(CC1)CC2=CC=CC=C2)NC(=O)C3=CC4=CC...       11  \n",
       "1671  C[C@@H](C(=O)N1CCN(CC1)CC2=CC=CC=C2)NC(=O)C3=C...       11  \n",
       "1123  CCC(=O)N([C@@H]1C[C@@H](N(C2=CC=CC=C12)C(=O)C3...       10  "
      ]
     },
     "execution_count": 51,
     "metadata": {},
     "output_type": "execute_result"
    }
   ],
   "source": [
    "df.sort_values(by=['hitfreq', 'CID'], ascending=False).head(10)"
   ]
  },
  {
   "cell_type": "code",
   "execution_count": 52,
   "metadata": {},
   "outputs": [],
   "source": [
    "# identify compounds satisfying lipinskys rule of 5\n",
    "\n",
    "df = df[ (df['HBondDonorCount'] <= 5) &\n",
    "         (df['HBondAcceptorCount'] <= 10) &\n",
    "         (df['MolecularWeight'] <= 500) &\n",
    "         (df['XLogP'] < 5)]"
   ]
  },
  {
   "cell_type": "code",
   "execution_count": 53,
   "metadata": {},
   "outputs": [
    {
     "data": {
      "text/plain": [
       "21427"
      ]
     },
     "execution_count": 53,
     "metadata": {},
     "output_type": "execute_result"
    }
   ],
   "source": [
    "len(df)"
   ]
  },
  {
   "cell_type": "code",
   "execution_count": 62,
   "metadata": {},
   "outputs": [
    {
     "data": {
      "image/png": "[encoded data removed]",
      "text/plain": [
       "<PIL.PngImagePlugin.PngImageFile image mode=RGB size=800x2000 at 0x2C08B4A2EB8>"
      ]
     },
     "metadata": {},
     "output_type": "display_data"
    }
   ],
   "source": [
    "# draw structures of top 10 compounds\n",
    "\n",
    "cids_top = df.sort_values(by=['hitfreq', 'CID'], ascending=False).head(10)['CID']\n",
    "\n",
    "mols = []\n",
    "for cid in cids_top:\n",
    "    \n",
    "    smile = df.query(\"CID == @cid\")['IsomericSMILES'].item()\n",
    "    \n",
    "    mol = Chem.MolFromSmiles(smile)\n",
    "    Chem.FindPotentialStereoBonds(mol)\n",
    "    mols.append(mol)\n",
    "    \n",
    "legends = ['CID {}'.format(x) for x in cids_top]\n",
    "img = Draw.MolsToGridImage(mols, molsPerRow=2, subImgSize=(400, 400), legends=legends)\n",
    "display(img)"
   ]
  },
  {
   "cell_type": "code",
   "execution_count": 63,
   "metadata": {},
   "outputs": [],
   "source": [
    "# chemicals with same connectivity but different sterochemistry will have same canonical smiles\n",
    "# select canonical smiles to reduce number of compounds to screen"
   ]
  },
  {
   "cell_type": "code",
   "execution_count": 64,
   "metadata": {},
   "outputs": [
    {
     "data": {
      "text/plain": [
       "21427"
      ]
     },
     "execution_count": 64,
     "metadata": {},
     "output_type": "execute_result"
    }
   ],
   "source": [
    "len(df)"
   ]
  },
  {
   "cell_type": "code",
   "execution_count": 65,
   "metadata": {},
   "outputs": [
    {
     "data": {
      "text/plain": [
       "17086"
      ]
     },
     "execution_count": 65,
     "metadata": {},
     "output_type": "execute_result"
    }
   ],
   "source": [
    "len(df['CanonicalSMILES'].unique())"
   ]
  },
  {
   "cell_type": "code",
   "execution_count": 71,
   "metadata": {},
   "outputs": [
    {
     "data": {
      "text/html": [
       "<div>\n",
       "<style scoped>\n",
       "    .dataframe tbody tr th:only-of-type {\n",
       "        vertical-align: middle;\n",
       "    }\n",
       "\n",
       "    .dataframe tbody tr th {\n",
       "        vertical-align: top;\n",
       "    }\n",
       "\n",
       "    .dataframe thead th {\n",
       "        text-align: right;\n",
       "    }\n",
       "</style>\n",
       "<table border=\"1\" class=\"dataframe\">\n",
       "  <thead>\n",
       "    <tr style=\"text-align: right;\">\n",
       "      <th></th>\n",
       "      <th>CID</th>\n",
       "      <th>HBondDonorCount</th>\n",
       "      <th>HBondAcceptorCount</th>\n",
       "      <th>MolecularWeight</th>\n",
       "      <th>XLogP</th>\n",
       "      <th>CanonicalSMILES</th>\n",
       "      <th>IsomericSMILES</th>\n",
       "      <th>hitfreq</th>\n",
       "    </tr>\n",
       "  </thead>\n",
       "  <tbody>\n",
       "    <tr>\n",
       "      <th>2</th>\n",
       "      <td>9910160</td>\n",
       "      <td>3</td>\n",
       "      <td>4</td>\n",
       "      <td>422.9</td>\n",
       "      <td>4.4</td>\n",
       "      <td>CC1=C(C(C(=C(N1)C)C(=O)O)C2=CC(=CC=C2)Cl)C(=O)...</td>\n",
       "      <td>CC1=C(C(C(=C(N1)C)C(=O)O)C2=CC(=CC=C2)Cl)C(=O)...</td>\n",
       "      <td>3</td>\n",
       "    </tr>\n",
       "    <tr>\n",
       "      <th>22</th>\n",
       "      <td>70155849</td>\n",
       "      <td>3</td>\n",
       "      <td>4</td>\n",
       "      <td>422.9</td>\n",
       "      <td>4.4</td>\n",
       "      <td>CC1=C(C(C(=C(N1)C)C(=O)O)C2=CC(=CC=C2)Cl)C(=O)...</td>\n",
       "      <td>CC1=C(C(C(=C(N1)C)C(=O)O)C2=CC(=CC=C2)Cl)C(=O)...</td>\n",
       "      <td>3</td>\n",
       "    </tr>\n",
       "  </tbody>\n",
       "</table>\n",
       "</div>"
      ],
      "text/plain": [
       "         CID  HBondDonorCount  HBondAcceptorCount  MolecularWeight  XLogP  \\\n",
       "2    9910160                3                   4            422.9    4.4   \n",
       "22  70155849                3                   4            422.9    4.4   \n",
       "\n",
       "                                      CanonicalSMILES  \\\n",
       "2   CC1=C(C(C(=C(N1)C)C(=O)O)C2=CC(=CC=C2)Cl)C(=O)...   \n",
       "22  CC1=C(C(C(=C(N1)C)C(=O)O)C2=CC(=CC=C2)Cl)C(=O)...   \n",
       "\n",
       "                                       IsomericSMILES  hitfreq  \n",
       "2   CC1=C(C(C(=C(N1)C)C(=O)O)C2=CC(=CC=C2)Cl)C(=O)...        3  \n",
       "22  CC1=C(C(C(=C(N1)C)C(=O)O)C2=CC(=CC=C2)Cl)C(=O)...        3  "
      ]
     },
     "execution_count": 71,
     "metadata": {},
     "output_type": "execute_result"
    }
   ],
   "source": [
    "canonical_smiles = df['CanonicalSMILES'].unique()\n",
    "df.query('CanonicalSMILES == @canonical_smiles[0]')"
   ]
  },
  {
   "cell_type": "code",
   "execution_count": 75,
   "metadata": {},
   "outputs": [
    {
     "data": {
      "text/plain": [
       "3    CC1=C(C(C(=C(N1)C)C(=O)O)C2=CC(=CC=C2)Cl)C(=O)...\n",
       "6    CC1=C(C(C(=C(N1)C)C(=O)O)C2=CC(=CC=C2)Cl)C(=O)...\n",
       "Name: IsomericSMILES, dtype: object"
      ]
     },
     "execution_count": 75,
     "metadata": {},
     "output_type": "execute_result"
    }
   ],
   "source": [
    "df.query('CanonicalSMILES == @canonical_smiles[1]')['IsomericSMILES']"
   ]
  },
  {
   "cell_type": "code",
   "execution_count": 80,
   "metadata": {},
   "outputs": [],
   "source": [
    "# unique compounds in terms of canonical smiles\n",
    "\n",
    "idx_to_include = []\n",
    "for smile in canonical_smiles:\n",
    "    idx = df.query(\"CanonicalSMILES == @smile\").index[0]\n",
    "    idx_to_include.append(idx)"
   ]
  },
  {
   "cell_type": "code",
   "execution_count": 81,
   "metadata": {},
   "outputs": [
    {
     "data": {
      "text/plain": [
       "17086"
      ]
     },
     "execution_count": 81,
     "metadata": {},
     "output_type": "execute_result"
    }
   ],
   "source": [
    "len(idx_to_include)"
   ]
  },
  {
   "cell_type": "code",
   "execution_count": 82,
   "metadata": {},
   "outputs": [
    {
     "data": {
      "text/plain": [
       "0"
      ]
     },
     "execution_count": 82,
     "metadata": {},
     "output_type": "execute_result"
    }
   ],
   "source": [
    "df['include'] = 0\n",
    "df['include'].sum()"
   ]
  },
  {
   "cell_type": "code",
   "execution_count": 83,
   "metadata": {},
   "outputs": [
    {
     "data": {
      "text/plain": [
       "17086"
      ]
     },
     "execution_count": 83,
     "metadata": {},
     "output_type": "execute_result"
    }
   ],
   "source": [
    "df.loc[idx_to_include, 'include'] = 1\n",
    "df['include'].sum()"
   ]
  },
  {
   "cell_type": "code",
   "execution_count": 84,
   "metadata": {},
   "outputs": [
    {
     "data": {
      "text/html": [
       "<div>\n",
       "<style scoped>\n",
       "    .dataframe tbody tr th:only-of-type {\n",
       "        vertical-align: middle;\n",
       "    }\n",
       "\n",
       "    .dataframe tbody tr th {\n",
       "        vertical-align: top;\n",
       "    }\n",
       "\n",
       "    .dataframe thead th {\n",
       "        text-align: right;\n",
       "    }\n",
       "</style>\n",
       "<table border=\"1\" class=\"dataframe\">\n",
       "  <thead>\n",
       "    <tr style=\"text-align: right;\">\n",
       "      <th></th>\n",
       "      <th>CID</th>\n",
       "      <th>include</th>\n",
       "    </tr>\n",
       "  </thead>\n",
       "  <tbody>\n",
       "    <tr>\n",
       "      <th>2</th>\n",
       "      <td>9910160</td>\n",
       "      <td>1</td>\n",
       "    </tr>\n",
       "    <tr>\n",
       "      <th>3</th>\n",
       "      <td>70157737</td>\n",
       "      <td>1</td>\n",
       "    </tr>\n",
       "    <tr>\n",
       "      <th>4</th>\n",
       "      <td>70074958</td>\n",
       "      <td>1</td>\n",
       "    </tr>\n",
       "    <tr>\n",
       "      <th>5</th>\n",
       "      <td>70073800</td>\n",
       "      <td>0</td>\n",
       "    </tr>\n",
       "    <tr>\n",
       "      <th>6</th>\n",
       "      <td>18318317</td>\n",
       "      <td>0</td>\n",
       "    </tr>\n",
       "    <tr>\n",
       "      <th>7</th>\n",
       "      <td>18318313</td>\n",
       "      <td>1</td>\n",
       "    </tr>\n",
       "    <tr>\n",
       "      <th>9</th>\n",
       "      <td>18318274</td>\n",
       "      <td>1</td>\n",
       "    </tr>\n",
       "    <tr>\n",
       "      <th>10</th>\n",
       "      <td>18318270</td>\n",
       "      <td>1</td>\n",
       "    </tr>\n",
       "    <tr>\n",
       "      <th>11</th>\n",
       "      <td>15838576</td>\n",
       "      <td>0</td>\n",
       "    </tr>\n",
       "    <tr>\n",
       "      <th>12</th>\n",
       "      <td>15838575</td>\n",
       "      <td>1</td>\n",
       "    </tr>\n",
       "  </tbody>\n",
       "</table>\n",
       "</div>"
      ],
      "text/plain": [
       "         CID  include\n",
       "2    9910160        1\n",
       "3   70157737        1\n",
       "4   70074958        1\n",
       "5   70073800        0\n",
       "6   18318317        0\n",
       "7   18318313        1\n",
       "9   18318274        1\n",
       "10  18318270        1\n",
       "11  15838576        0\n",
       "12  15838575        1"
      ]
     },
     "execution_count": 84,
     "metadata": {},
     "output_type": "execute_result"
    }
   ],
   "source": [
    "df[['CID', 'include']].head(10)"
   ]
  },
  {
   "cell_type": "code",
   "execution_count": 85,
   "metadata": {},
   "outputs": [],
   "source": [
    "# draw top 10 unique compounds\n",
    "\n",
    "cids_top = df.query('include == 1').sort_values(by=['hitfreq', 'CID'], ascending=False).head(10)['CID']"
   ]
  },
  {
   "cell_type": "code",
   "execution_count": 87,
   "metadata": {},
   "outputs": [
    {
     "data": {
      "image/png": "[encoded data removed]",
      "text/plain": [
       "<PIL.PngImagePlugin.PngImageFile image mode=RGB size=800x2000 at 0x2C08B5A5438>"
      ]
     },
     "metadata": {},
     "output_type": "display_data"
    }
   ],
   "source": [
    "mols = []\n",
    "for cid in cids_top:\n",
    "    smiles = df.query('CID == @cid')['IsomericSMILES'].item()\n",
    "    mol = Chem.MolFromSmiles(smiles)\n",
    "    Chem.FindPotentialStereoBonds(mol)\n",
    "    mols.append(mol)\n",
    "\n",
    "legends = ['CID {}'.format(x) for x in cids_top]\n",
    "img = Draw.MolsToGridImage(mols, molsPerRow=2, subImgSize=(400, 400), legends=legends)\n",
    "display(img)"
   ]
  },
  {
   "cell_type": "code",
   "execution_count": 89,
   "metadata": {},
   "outputs": [],
   "source": [
    "# save top 3\n",
    "\n",
    "for idx, cid in enumerate(cids_top):\n",
    "    \n",
    "    if idx == 3:\n",
    "        break\n",
    "        \n",
    "    smiles = df.query('CID == @cid')['IsomericSMILES'].item()\n",
    "    \n",
    "    mol = Chem.MolFromSmiles(smiles)\n",
    "    mol = Chem.AddHs(mol)\n",
    "    AllChem.EmbedMolecule(mol)\n",
    "    AllChem.MMFFOptimizeMolecule(mol)\n",
    "    \n",
    "    filename = 'pygm_lig_{}_{}.mol'.format(idx, cid)\n",
    "    Chem.MolToMolFile(mol, filename)"
   ]
  },
  {
   "cell_type": "code",
   "execution_count": 107,
   "metadata": {},
   "outputs": [],
   "source": [
    "# dud-e target cyclooxigenase-2 pgh2\n",
    "# load data\n",
    "# print number of row\n",
    "# print first 5 rows\n",
    "\n",
    "def ex_1():\n",
    "    \n",
    "    # download pgh2\n",
    "    url = 'http://dude.docking.org/targets/pgh2/actives_final.ism'\n",
    "    r = requests.get(url)\n",
    "    \n",
    "    df = pd.read_csv(StringIO(r.text), delim_whitespace=True, names=['smiles', 'dat', 'id'])\n",
    "    \n",
    "    return df"
   ]
  },
  {
   "cell_type": "code",
   "execution_count": 108,
   "metadata": {},
   "outputs": [
    {
     "name": "stdout",
     "output_type": "stream",
     "text": [
      "(435, 3)\n"
     ]
    },
    {
     "data": {
      "text/html": [
       "<div>\n",
       "<style scoped>\n",
       "    .dataframe tbody tr th:only-of-type {\n",
       "        vertical-align: middle;\n",
       "    }\n",
       "\n",
       "    .dataframe tbody tr th {\n",
       "        vertical-align: top;\n",
       "    }\n",
       "\n",
       "    .dataframe thead th {\n",
       "        text-align: right;\n",
       "    }\n",
       "</style>\n",
       "<table border=\"1\" class=\"dataframe\">\n",
       "  <thead>\n",
       "    <tr style=\"text-align: right;\">\n",
       "      <th></th>\n",
       "      <th>smiles</th>\n",
       "      <th>dat</th>\n",
       "      <th>id</th>\n",
       "    </tr>\n",
       "  </thead>\n",
       "  <tbody>\n",
       "    <tr>\n",
       "      <th>0</th>\n",
       "      <td>OC(=O)CCCC[C@@H]1CCSS1</td>\n",
       "      <td>224463</td>\n",
       "      <td>CHEMBL134342</td>\n",
       "    </tr>\n",
       "    <tr>\n",
       "      <th>1</th>\n",
       "      <td>COc4ccc(c2c(c1ccc(S(N)(=O)=O)cc1)[nH]c3ccccc23...</td>\n",
       "      <td>510082</td>\n",
       "      <td>CHEMBL499068</td>\n",
       "    </tr>\n",
       "    <tr>\n",
       "      <th>2</th>\n",
       "      <td>Fc5ccc(c3[nH]c(c1ccc(F)cc1)c4C2CCC(C2)c34)cc5</td>\n",
       "      <td>235438</td>\n",
       "      <td>CHEMBL143776</td>\n",
       "    </tr>\n",
       "    <tr>\n",
       "      <th>3</th>\n",
       "      <td>Fc5ccc(c3[nH]c(c1ccc(F)cc1)c4C2CCC(CC2)c34)cc5</td>\n",
       "      <td>234337</td>\n",
       "      <td>CHEMBL140167</td>\n",
       "    </tr>\n",
       "    <tr>\n",
       "      <th>4</th>\n",
       "      <td>CS(=O)(=O)c3ccc(c2cc(C(F)(F)F)nc(NCc1ccccc1)n2...</td>\n",
       "      <td>561172</td>\n",
       "      <td>CHEMBL551829</td>\n",
       "    </tr>\n",
       "  </tbody>\n",
       "</table>\n",
       "</div>"
      ],
      "text/plain": [
       "                                              smiles     dat            id\n",
       "0                             OC(=O)CCCC[C@@H]1CCSS1  224463  CHEMBL134342\n",
       "1  COc4ccc(c2c(c1ccc(S(N)(=O)=O)cc1)[nH]c3ccccc23...  510082  CHEMBL499068\n",
       "2      Fc5ccc(c3[nH]c(c1ccc(F)cc1)c4C2CCC(C2)c34)cc5  235438  CHEMBL143776\n",
       "3     Fc5ccc(c3[nH]c(c1ccc(F)cc1)c4C2CCC(CC2)c34)cc5  234337  CHEMBL140167\n",
       "4  CS(=O)(=O)c3ccc(c2cc(C(F)(F)F)nc(NCc1ccccc1)n2...  561172  CHEMBL551829"
      ]
     },
     "execution_count": 108,
     "metadata": {},
     "output_type": "execute_result"
    }
   ],
   "source": [
    "df = ex_1()\n",
    "print(df.shape)\n",
    "df.head()"
   ]
  },
  {
   "cell_type": "code",
   "execution_count": 146,
   "metadata": {},
   "outputs": [],
   "source": [
    "# similarity search using each isomeric smiles \n",
    "\n",
    "def ex_2():\n",
    "    \n",
    "    all_cids = []\n",
    "    for i, smiles in enumerate(tqdm(df['smiles'])):\n",
    "\n",
    "        prolog = 'https://pubchem.ncbi.nlm.nih.gov/rest/pug'\n",
    "        url = prolog + '/compound/fastsimilarity_2d/smiles/cids/txt'\n",
    "        data = {'smiles' : smiles}\n",
    "        \n",
    "        r = requests.post(url, data=data)\n",
    "    \n",
    "        if r.status_code == 200:\n",
    "            cids = r.text.split()\n",
    "            all_cids.extend(cids)\n",
    "            \n",
    "        else:\n",
    "            print('error at {}: {} {}'.format(i, df.loc[i, 'id'], smiles))\n",
    "            print(r.status_code)\n",
    "            print(r.content)\n",
    "        \n",
    "        time.sleep(0.2)\n",
    "        \n",
    "    all_cids = Counter(all_cids)\n",
    "    \n",
    "    return all_cids"
   ]
  },
  {
   "cell_type": "code",
   "execution_count": 148,
   "metadata": {},
   "outputs": [
    {
     "data": {
      "application/vnd.jupyter.widget-view+json": {
       "model_id": "d95e5ffe22cb404c83f598d66d1012de",
       "version_major": 2,
       "version_minor": 0
      },
      "text/plain": [
       "HBox(children=(IntProgress(value=0, max=435), HTML(value='')))"
      ]
     },
     "metadata": {},
     "output_type": "display_data"
    },
    {
     "name": "stdout",
     "output_type": "stream",
     "text": [
      "error at 302: CHEMBL287336 CCC(O)c2nc1c(C(F)(F)F)cccc1c(O)c2C(=O)Nc3nccs3\n",
      "404\n",
      "b'Status: 404\\nCode: PUGREST.NotFound\\nMessage: Search returned no hits\\nDetail: hits: 0 percent completion: 100 ; Average individual thread time (msec): 1118 ; Total parallel thread time (msec): 1256\\n'\n",
      "error at 312: CHEMBL62101 Fc5ccc(NC(=O)C2C(=O)n3c1ccccc1sc4cccc2c34)c(F)c5\n",
      "404\n",
      "b'Status: 404\\nCode: PUGREST.NotFound\\nMessage: Search returned no hits\\nDetail: hits: 0 percent completion: 100 ; Average individual thread time (msec): 1105 ; Total parallel thread time (msec): 1228\\n'\n",
      "error at 326: CHEMBL414437 Cc3nn(c1ccc(S(N)(=O)=O)cc1)c4c2cc(N(=O)=O)ccc2nc(O)c34\n",
      "404\n",
      "b'Status: 404\\nCode: PUGREST.NotFound\\nMessage: Search returned no hits\\nDetail: hits: 0 percent completion: 100 ; Average individual thread time (msec): 1084 ; Total parallel thread time (msec): 1203\\n'\n"
     ]
    }
   ],
   "source": [
    "cids_hit = ex_2()"
   ]
  },
  {
   "cell_type": "code",
   "execution_count": 149,
   "metadata": {},
   "outputs": [
    {
     "data": {
      "text/plain": [
       "83473"
      ]
     },
     "execution_count": 149,
     "metadata": {},
     "output_type": "execute_result"
    }
   ],
   "source": [
    "len(cids_hit)"
   ]
  },
  {
   "cell_type": "code",
   "execution_count": 152,
   "metadata": {},
   "outputs": [],
   "source": [
    "# get cids of query compounds through identity search\n",
    "# remove from hit list\n",
    "\n",
    "def ex_3(cids_hit):\n",
    "    \n",
    "    # smiles to cid\n",
    "    all_cids = []\n",
    "    for i, smiles in enumerate(tqdm(df['smiles'])):\n",
    "        data = {'smiles' : smiles} \n",
    "        url = prolog + '/compound/fastidentity/smiles/cids/txt?identity_type=same_connectivity'\n",
    "        r = requests.post(url, data=data)\n",
    "        \n",
    "        if r.status_code == 200:\n",
    "            cids = r.text.split()\n",
    "            all_cids.extend(cids)\n",
    "            \n",
    "        else:\n",
    "            print('error at {}: {} {}'.format(i, df.loc[i, 'id'], smile))\n",
    "            print(r.status_code)\n",
    "            print(r.content)\n",
    "            \n",
    "        time.sleep(0.1)\n",
    "        \n",
    "    all_cids = Counter(all_cids)\n",
    "    print(len(all_cids))\n",
    "    \n",
    "    # remove from hit list\n",
    "    for cid in all_cids.keys():\n",
    "        cids_hit.pop(cid, None)\n",
    "    \n",
    "    return cids_hit\n",
    "            "
   ]
  },
  {
   "cell_type": "code",
   "execution_count": 153,
   "metadata": {},
   "outputs": [
    {
     "data": {
      "application/vnd.jupyter.widget-view+json": {
       "model_id": "cc2dd084c9f048a39e2314353bbd2729",
       "version_major": 2,
       "version_minor": 0
      },
      "text/plain": [
       "HBox(children=(IntProgress(value=0, max=435), HTML(value='')))"
      ]
     },
     "metadata": {},
     "output_type": "display_data"
    },
    {
     "name": "stdout",
     "output_type": "stream",
     "text": [
      "error at 131: CHEMBL61422 CCCOC1=C(C=C(C=C1)C(=O)O)NC(=O)C2=C(C(=CC=C2)[N+](=O)[O-])C\n",
      "404\n",
      "b'Status: 404\\nCode: PUGREST.NotFound\\nMessage: Identity search returned no hits\\n'\n",
      "error at 229: CHEMBL292324 CCCOC1=C(C=C(C=C1)C(=O)O)NC(=O)C2=C(C(=CC=C2)[N+](=O)[O-])C\n",
      "404\n",
      "b'Status: 404\\nCode: PUGREST.NotFound\\nMessage: Identity search returned no hits\\n'\n",
      "error at 312: CHEMBL62101 CCCOC1=C(C=C(C=C1)C(=O)O)NC(=O)C2=C(C(=CC=C2)[N+](=O)[O-])C\n",
      "404\n",
      "b'Status: 404\\nCode: PUGREST.NotFound\\nMessage: Identity search returned no hits\\n'\n",
      "error at 314: CHEMBL293617 CCCOC1=C(C=C(C=C1)C(=O)O)NC(=O)C2=C(C(=CC=C2)[N+](=O)[O-])C\n",
      "404\n",
      "b'Status: 404\\nCode: PUGREST.NotFound\\nMessage: Identity search returned no hits\\n'\n",
      "error at 356: CHEMBL276850 CCCOC1=C(C=C(C=C1)C(=O)O)NC(=O)C2=C(C(=CC=C2)[N+](=O)[O-])C\n",
      "404\n",
      "b'Status: 404\\nCode: PUGREST.NotFound\\nMessage: Identity search returned no hits\\n'\n",
      "error at 397: CHEMBL606555 CCCOC1=C(C=C(C=C1)C(=O)O)NC(=O)C2=C(C(=CC=C2)[N+](=O)[O-])C\n",
      "404\n",
      "b'Status: 404\\nCode: PUGREST.NotFound\\nMessage: Identity search returned no hits\\n'\n",
      "error at 411: CHEMBL418665 CCCOC1=C(C=C(C=C1)C(=O)O)NC(=O)C2=C(C(=CC=C2)[N+](=O)[O-])C\n",
      "404\n",
      "b'Status: 404\\nCode: PUGREST.NotFound\\nMessage: Identity search returned no hits\\n'\n",
      "error at 432: CHEMBL828 CCCOC1=C(C=C(C=C1)C(=O)O)NC(=O)C2=C(C(=CC=C2)[N+](=O)[O-])C\n",
      "404\n",
      "b'Status: 404\\nCode: PUGREST.NotFound\\nMessage: Identity search returned no hits\\n'\n",
      "error at 433: CHEMBL392114 CCCOC1=C(C=C(C=C1)C(=O)O)NC(=O)C2=C(C(=CC=C2)[N+](=O)[O-])C\n",
      "500\n",
      "b'Status: 500\\nCode: PUGREST.ServerError\\nMessage: Identity search status indicates failure\\n'\n",
      "844\n",
      "82636\n"
     ]
    }
   ],
   "source": [
    "cids_hit = ex_3(cids_hit)\n",
    "print(len(cids_hit))"
   ]
  },
  {
   "cell_type": "code",
   "execution_count": 182,
   "metadata": {},
   "outputs": [],
   "source": [
    "# cids to properties\n",
    "# to df\n",
    "\n",
    "def ex_4(cids_hit):\n",
    "    \n",
    "    chunk_size = 100\n",
    "    \n",
    "    # get list of keys\n",
    "    cids_hit =[k for k, v in cids_hit.items()]\n",
    "    \n",
    "    if len(cids_hit) % chunk_size == 0:\n",
    "        num_chunks = len(cids_hit) // chunk_size\n",
    "    else:\n",
    "        num_chunks = len(cids_hit) // chunk_size + 1\n",
    "        \n",
    "    csv = ''\n",
    "    for i in tqdm(range(num_chunks)):\n",
    "        \n",
    "        idx1 = chunk_size * i\n",
    "        idx2 = chunk_size * (i+1)\n",
    "        \n",
    "        cids_str = ','.join(cids_hit[idx1:idx2])\n",
    "        url = prolog + f'/compound/cid/{cids_str}/property/hbonddonorcount,hbondacceptorcount,molecularweight,xlogp,canonicalsmiles,isomericsmiles/csv'\n",
    "        r = requests.get(url)\n",
    "        \n",
    "        csv += r.text\n",
    "        \n",
    "        time.sleep(0.1)\n",
    "        \n",
    "    df = pd.read_csv(StringIO(csv))\n",
    "    \n",
    "    return df"
   ]
  },
  {
   "cell_type": "code",
   "execution_count": 183,
   "metadata": {},
   "outputs": [
    {
     "data": {
      "application/vnd.jupyter.widget-view+json": {
       "model_id": "6b78097e011b43908101bc0319ec6fcd",
       "version_major": 2,
       "version_minor": 0
      },
      "text/plain": [
       "HBox(children=(IntProgress(value=0, max=827), HTML(value='')))"
      ]
     },
     "metadata": {},
     "output_type": "display_data"
    }
   ],
   "source": [
    "df_raw = ex_4(cids_hit)"
   ]
  },
  {
   "cell_type": "code",
   "execution_count": 184,
   "metadata": {},
   "outputs": [
    {
     "data": {
      "text/html": [
       "<div>\n",
       "<style scoped>\n",
       "    .dataframe tbody tr th:only-of-type {\n",
       "        vertical-align: middle;\n",
       "    }\n",
       "\n",
       "    .dataframe tbody tr th {\n",
       "        vertical-align: top;\n",
       "    }\n",
       "\n",
       "    .dataframe thead th {\n",
       "        text-align: right;\n",
       "    }\n",
       "</style>\n",
       "<table border=\"1\" class=\"dataframe\">\n",
       "  <thead>\n",
       "    <tr style=\"text-align: right;\">\n",
       "      <th></th>\n",
       "      <th>CID</th>\n",
       "      <th>HBondDonorCount</th>\n",
       "      <th>HBondAcceptorCount</th>\n",
       "      <th>MolecularWeight</th>\n",
       "      <th>XLogP</th>\n",
       "      <th>CanonicalSMILES</th>\n",
       "      <th>IsomericSMILES</th>\n",
       "    </tr>\n",
       "  </thead>\n",
       "  <tbody>\n",
       "    <tr>\n",
       "      <th>0</th>\n",
       "      <td>421</td>\n",
       "      <td>3</td>\n",
       "      <td>4</td>\n",
       "      <td>208.300000</td>\n",
       "      <td>1.8</td>\n",
       "      <td>C(CCC(=O)O)CC(CCS)S</td>\n",
       "      <td>C(CCC(=O)O)CC(CCS)S</td>\n",
       "    </tr>\n",
       "    <tr>\n",
       "      <th>1</th>\n",
       "      <td>9834298</td>\n",
       "      <td>3</td>\n",
       "      <td>4</td>\n",
       "      <td>208.300000</td>\n",
       "      <td>1.8</td>\n",
       "      <td>C(CCC(=O)O)CC(CCS)S</td>\n",
       "      <td>C(CCC(=O)O)C[C@H](CCS)S</td>\n",
       "    </tr>\n",
       "    <tr>\n",
       "      <th>2</th>\n",
       "      <td>1549144</td>\n",
       "      <td>0</td>\n",
       "      <td>4</td>\n",
       "      <td>205.300000</td>\n",
       "      <td>2.3</td>\n",
       "      <td>C1CSSC1CCCCC(=O)[O-]</td>\n",
       "      <td>C1CSS[C@@H]1CCCCC(=O)[O-]</td>\n",
       "    </tr>\n",
       "    <tr>\n",
       "      <th>3</th>\n",
       "      <td>449141</td>\n",
       "      <td>3</td>\n",
       "      <td>4</td>\n",
       "      <td>208.300000</td>\n",
       "      <td>1.8</td>\n",
       "      <td>C(CCC(=O)O)CC(CCS)S</td>\n",
       "      <td>C(CCC(=O)O)C[C@@H](CCS)S</td>\n",
       "    </tr>\n",
       "    <tr>\n",
       "      <th>4</th>\n",
       "      <td>23665026</td>\n",
       "      <td>0</td>\n",
       "      <td>4</td>\n",
       "      <td>228.300000</td>\n",
       "      <td>NaN</td>\n",
       "      <td>C1CSSC1CCCCC(=O)[O-].[Na+]</td>\n",
       "      <td>C1CSSC1CCCCC(=O)[O-].[Na+]</td>\n",
       "    </tr>\n",
       "  </tbody>\n",
       "</table>\n",
       "</div>"
      ],
      "text/plain": [
       "        CID HBondDonorCount HBondAcceptorCount MolecularWeight XLogP  \\\n",
       "0       421               3                  4      208.300000   1.8   \n",
       "1   9834298               3                  4      208.300000   1.8   \n",
       "2   1549144               0                  4      205.300000   2.3   \n",
       "3    449141               3                  4      208.300000   1.8   \n",
       "4  23665026               0                  4      228.300000   NaN   \n",
       "\n",
       "              CanonicalSMILES              IsomericSMILES  \n",
       "0         C(CCC(=O)O)CC(CCS)S         C(CCC(=O)O)CC(CCS)S  \n",
       "1         C(CCC(=O)O)CC(CCS)S     C(CCC(=O)O)C[C@H](CCS)S  \n",
       "2        C1CSSC1CCCCC(=O)[O-]   C1CSS[C@@H]1CCCCC(=O)[O-]  \n",
       "3         C(CCC(=O)O)CC(CCS)S    C(CCC(=O)O)C[C@@H](CCS)S  \n",
       "4  C1CSSC1CCCCC(=O)[O-].[Na+]  C1CSSC1CCCCC(=O)[O-].[Na+]  "
      ]
     },
     "execution_count": 184,
     "metadata": {},
     "output_type": "execute_result"
    }
   ],
   "source": [
    "df_raw.head()"
   ]
  },
  {
   "cell_type": "code",
   "execution_count": 187,
   "metadata": {},
   "outputs": [],
   "source": [
    "# merge cids_hit and df_raw\n",
    "\n",
    "def ex_5(cids_hit, df_raw):\n",
    "    \n",
    "    df_freq = pd.DataFrame.from_dict(cids_hit, orient='index').reset_index()\n",
    "    df_freq.columns = ['CID', 'count']\n",
    "    \n",
    "    df = df_freq.merge(df_raw, on='CID')\n",
    "    \n",
    "    return df"
   ]
  },
  {
   "cell_type": "code",
   "execution_count": 188,
   "metadata": {},
   "outputs": [
    {
     "name": "stdout",
     "output_type": "stream",
     "text": [
      "(82636, 8)\n"
     ]
    }
   ],
   "source": [
    "df = ex_5(cids_hit, df_raw)\n",
    "print(df.shape)"
   ]
  },
  {
   "cell_type": "code",
   "execution_count": 189,
   "metadata": {},
   "outputs": [
    {
     "data": {
      "text/html": [
       "<div>\n",
       "<style scoped>\n",
       "    .dataframe tbody tr th:only-of-type {\n",
       "        vertical-align: middle;\n",
       "    }\n",
       "\n",
       "    .dataframe tbody tr th {\n",
       "        vertical-align: top;\n",
       "    }\n",
       "\n",
       "    .dataframe thead th {\n",
       "        text-align: right;\n",
       "    }\n",
       "</style>\n",
       "<table border=\"1\" class=\"dataframe\">\n",
       "  <thead>\n",
       "    <tr style=\"text-align: right;\">\n",
       "      <th></th>\n",
       "      <th>CID</th>\n",
       "      <th>count</th>\n",
       "      <th>HBondDonorCount</th>\n",
       "      <th>HBondAcceptorCount</th>\n",
       "      <th>MolecularWeight</th>\n",
       "      <th>XLogP</th>\n",
       "      <th>CanonicalSMILES</th>\n",
       "      <th>IsomericSMILES</th>\n",
       "    </tr>\n",
       "  </thead>\n",
       "  <tbody>\n",
       "    <tr>\n",
       "      <th>0</th>\n",
       "      <td>421</td>\n",
       "      <td>1</td>\n",
       "      <td>3</td>\n",
       "      <td>4</td>\n",
       "      <td>208.300000</td>\n",
       "      <td>1.8</td>\n",
       "      <td>C(CCC(=O)O)CC(CCS)S</td>\n",
       "      <td>C(CCC(=O)O)CC(CCS)S</td>\n",
       "    </tr>\n",
       "    <tr>\n",
       "      <th>1</th>\n",
       "      <td>9834298</td>\n",
       "      <td>1</td>\n",
       "      <td>3</td>\n",
       "      <td>4</td>\n",
       "      <td>208.300000</td>\n",
       "      <td>1.8</td>\n",
       "      <td>C(CCC(=O)O)CC(CCS)S</td>\n",
       "      <td>C(CCC(=O)O)C[C@H](CCS)S</td>\n",
       "    </tr>\n",
       "    <tr>\n",
       "      <th>2</th>\n",
       "      <td>1549144</td>\n",
       "      <td>1</td>\n",
       "      <td>0</td>\n",
       "      <td>4</td>\n",
       "      <td>205.300000</td>\n",
       "      <td>2.3</td>\n",
       "      <td>C1CSSC1CCCCC(=O)[O-]</td>\n",
       "      <td>C1CSS[C@@H]1CCCCC(=O)[O-]</td>\n",
       "    </tr>\n",
       "    <tr>\n",
       "      <th>3</th>\n",
       "      <td>449141</td>\n",
       "      <td>1</td>\n",
       "      <td>3</td>\n",
       "      <td>4</td>\n",
       "      <td>208.300000</td>\n",
       "      <td>1.8</td>\n",
       "      <td>C(CCC(=O)O)CC(CCS)S</td>\n",
       "      <td>C(CCC(=O)O)C[C@@H](CCS)S</td>\n",
       "    </tr>\n",
       "    <tr>\n",
       "      <th>4</th>\n",
       "      <td>23665026</td>\n",
       "      <td>1</td>\n",
       "      <td>0</td>\n",
       "      <td>4</td>\n",
       "      <td>228.300000</td>\n",
       "      <td>NaN</td>\n",
       "      <td>C1CSSC1CCCCC(=O)[O-].[Na+]</td>\n",
       "      <td>C1CSSC1CCCCC(=O)[O-].[Na+]</td>\n",
       "    </tr>\n",
       "  </tbody>\n",
       "</table>\n",
       "</div>"
      ],
      "text/plain": [
       "        CID  count HBondDonorCount HBondAcceptorCount MolecularWeight XLogP  \\\n",
       "0       421      1               3                  4      208.300000   1.8   \n",
       "1   9834298      1               3                  4      208.300000   1.8   \n",
       "2   1549144      1               0                  4      205.300000   2.3   \n",
       "3    449141      1               3                  4      208.300000   1.8   \n",
       "4  23665026      1               0                  4      228.300000   NaN   \n",
       "\n",
       "              CanonicalSMILES              IsomericSMILES  \n",
       "0         C(CCC(=O)O)CC(CCS)S         C(CCC(=O)O)CC(CCS)S  \n",
       "1         C(CCC(=O)O)CC(CCS)S     C(CCC(=O)O)C[C@H](CCS)S  \n",
       "2        C1CSSC1CCCCC(=O)[O-]   C1CSS[C@@H]1CCCCC(=O)[O-]  \n",
       "3         C(CCC(=O)O)CC(CCS)S    C(CCC(=O)O)C[C@@H](CCS)S  \n",
       "4  C1CSSC1CCCCC(=O)[O-].[Na+]  C1CSSC1CCCCC(=O)[O-].[Na+]  "
      ]
     },
     "execution_count": 189,
     "metadata": {},
     "output_type": "execute_result"
    }
   ],
   "source": [
    "df.head()"
   ]
  },
  {
   "cell_type": "code",
   "execution_count": 192,
   "metadata": {},
   "outputs": [],
   "source": [
    "# remove compounds that violoate congreves rule of 3\n",
    "\n",
    "def ex_6(df):\n",
    "    \n",
    "    df = df.apply(pd.to_numeric, errors='ignore')\n",
    "    \n",
    "    df = df[(df['MolecularWeight'] < 300) &\n",
    "            (df['HBondDonorCount'] <= 3) &\n",
    "            (df['HBondAcceptorCount'] <= 3) &\n",
    "            (df['XLogP'] <= 3)]\n",
    "    \n",
    "    return df"
   ]
  },
  {
   "cell_type": "code",
   "execution_count": 193,
   "metadata": {},
   "outputs": [],
   "source": [
    "df = ex_6(df)"
   ]
  },
  {
   "cell_type": "code",
   "execution_count": 195,
   "metadata": {},
   "outputs": [
    {
     "name": "stdout",
     "output_type": "stream",
     "text": [
      "(9679, 8)\n"
     ]
    },
    {
     "data": {
      "text/html": [
       "<div>\n",
       "<style scoped>\n",
       "    .dataframe tbody tr th:only-of-type {\n",
       "        vertical-align: middle;\n",
       "    }\n",
       "\n",
       "    .dataframe tbody tr th {\n",
       "        vertical-align: top;\n",
       "    }\n",
       "\n",
       "    .dataframe thead th {\n",
       "        text-align: right;\n",
       "    }\n",
       "</style>\n",
       "<table border=\"1\" class=\"dataframe\">\n",
       "  <thead>\n",
       "    <tr style=\"text-align: right;\">\n",
       "      <th></th>\n",
       "      <th>CID</th>\n",
       "      <th>count</th>\n",
       "      <th>HBondDonorCount</th>\n",
       "      <th>HBondAcceptorCount</th>\n",
       "      <th>MolecularWeight</th>\n",
       "      <th>XLogP</th>\n",
       "      <th>CanonicalSMILES</th>\n",
       "      <th>IsomericSMILES</th>\n",
       "    </tr>\n",
       "  </thead>\n",
       "  <tbody>\n",
       "    <tr>\n",
       "      <th>46</th>\n",
       "      <td>22065545</td>\n",
       "      <td>1</td>\n",
       "      <td>1</td>\n",
       "      <td>3</td>\n",
       "      <td>174.26</td>\n",
       "      <td>1.6</td>\n",
       "      <td>C(CCCC(=O)O)CCC=S</td>\n",
       "      <td>C(CCCC(=O)O)CCC=S</td>\n",
       "    </tr>\n",
       "    <tr>\n",
       "      <th>52</th>\n",
       "      <td>145103858</td>\n",
       "      <td>1</td>\n",
       "      <td>2</td>\n",
       "      <td>3</td>\n",
       "      <td>207.30</td>\n",
       "      <td>1.7</td>\n",
       "      <td>C1CS[SH+]C1CCCCC(=O)O</td>\n",
       "      <td>C1CS[SH+][C@@H]1CCCCC(=O)O</td>\n",
       "    </tr>\n",
       "    <tr>\n",
       "      <th>103</th>\n",
       "      <td>131858174</td>\n",
       "      <td>1</td>\n",
       "      <td>1</td>\n",
       "      <td>2</td>\n",
       "      <td>206.30</td>\n",
       "      <td>1.8</td>\n",
       "      <td>C(CCC(=O)O)CC(CC[S])[S]</td>\n",
       "      <td>C(CCC(=O)O)CC(CC[S])[S]</td>\n",
       "    </tr>\n",
       "    <tr>\n",
       "      <th>1222</th>\n",
       "      <td>12248413</td>\n",
       "      <td>1</td>\n",
       "      <td>0</td>\n",
       "      <td>3</td>\n",
       "      <td>276.40</td>\n",
       "      <td>2.4</td>\n",
       "      <td>CC1=CC=C(C=C1)S(=O)(=O)CC2=CC=C(C=C2)OC</td>\n",
       "      <td>CC1=CC=C(C=C1)S(=O)(=O)CC2=CC=C(C=C2)OC</td>\n",
       "    </tr>\n",
       "    <tr>\n",
       "      <th>1223</th>\n",
       "      <td>10999865</td>\n",
       "      <td>1</td>\n",
       "      <td>0</td>\n",
       "      <td>3</td>\n",
       "      <td>262.33</td>\n",
       "      <td>2.0</td>\n",
       "      <td>COC1=CC=C(C=C1)CS(=O)(=O)C2=CC=CC=C2</td>\n",
       "      <td>COC1=CC=C(C=C1)CS(=O)(=O)C2=CC=CC=C2</td>\n",
       "    </tr>\n",
       "  </tbody>\n",
       "</table>\n",
       "</div>"
      ],
      "text/plain": [
       "            CID  count  HBondDonorCount  HBondAcceptorCount  MolecularWeight  \\\n",
       "46     22065545      1                1                   3           174.26   \n",
       "52    145103858      1                2                   3           207.30   \n",
       "103   131858174      1                1                   2           206.30   \n",
       "1222   12248413      1                0                   3           276.40   \n",
       "1223   10999865      1                0                   3           262.33   \n",
       "\n",
       "      XLogP                          CanonicalSMILES  \\\n",
       "46      1.6                        C(CCCC(=O)O)CCC=S   \n",
       "52      1.7                    C1CS[SH+]C1CCCCC(=O)O   \n",
       "103     1.8                  C(CCC(=O)O)CC(CC[S])[S]   \n",
       "1222    2.4  CC1=CC=C(C=C1)S(=O)(=O)CC2=CC=C(C=C2)OC   \n",
       "1223    2.0     COC1=CC=C(C=C1)CS(=O)(=O)C2=CC=CC=C2   \n",
       "\n",
       "                               IsomericSMILES  \n",
       "46                          C(CCCC(=O)O)CCC=S  \n",
       "52                 C1CS[SH+][C@@H]1CCCCC(=O)O  \n",
       "103                   C(CCC(=O)O)CC(CC[S])[S]  \n",
       "1222  CC1=CC=C(C=C1)S(=O)(=O)CC2=CC=C(C=C2)OC  \n",
       "1223     COC1=CC=C(C=C1)CS(=O)(=O)C2=CC=CC=C2  "
      ]
     },
     "execution_count": 195,
     "metadata": {},
     "output_type": "execute_result"
    }
   ],
   "source": [
    "print(df.shape)\n",
    "df.head()"
   ]
  },
  {
   "cell_type": "code",
   "execution_count": 196,
   "metadata": {},
   "outputs": [],
   "source": [
    "# drop duplicate canonical smiles\n",
    "\n",
    "def ex_7(df):\n",
    "    \n",
    "    df = df.drop_duplicates('CanonicalSMILES')\n",
    "    print(df.shape)\n",
    "    \n",
    "    return df"
   ]
  },
  {
   "cell_type": "code",
   "execution_count": 198,
   "metadata": {},
   "outputs": [
    {
     "name": "stdout",
     "output_type": "stream",
     "text": [
      "(8381, 8)\n"
     ]
    }
   ],
   "source": [
    "df = ex_7(df)"
   ]
  },
  {
   "cell_type": "code",
   "execution_count": 199,
   "metadata": {},
   "outputs": [
    {
     "data": {
      "text/html": [
       "<div>\n",
       "<style scoped>\n",
       "    .dataframe tbody tr th:only-of-type {\n",
       "        vertical-align: middle;\n",
       "    }\n",
       "\n",
       "    .dataframe tbody tr th {\n",
       "        vertical-align: top;\n",
       "    }\n",
       "\n",
       "    .dataframe thead th {\n",
       "        text-align: right;\n",
       "    }\n",
       "</style>\n",
       "<table border=\"1\" class=\"dataframe\">\n",
       "  <thead>\n",
       "    <tr style=\"text-align: right;\">\n",
       "      <th></th>\n",
       "      <th>CID</th>\n",
       "      <th>count</th>\n",
       "      <th>HBondDonorCount</th>\n",
       "      <th>HBondAcceptorCount</th>\n",
       "      <th>MolecularWeight</th>\n",
       "      <th>XLogP</th>\n",
       "      <th>CanonicalSMILES</th>\n",
       "      <th>IsomericSMILES</th>\n",
       "    </tr>\n",
       "  </thead>\n",
       "  <tbody>\n",
       "    <tr>\n",
       "      <th>46</th>\n",
       "      <td>22065545</td>\n",
       "      <td>1</td>\n",
       "      <td>1</td>\n",
       "      <td>3</td>\n",
       "      <td>174.26</td>\n",
       "      <td>1.6</td>\n",
       "      <td>C(CCCC(=O)O)CCC=S</td>\n",
       "      <td>C(CCCC(=O)O)CCC=S</td>\n",
       "    </tr>\n",
       "    <tr>\n",
       "      <th>52</th>\n",
       "      <td>145103858</td>\n",
       "      <td>1</td>\n",
       "      <td>2</td>\n",
       "      <td>3</td>\n",
       "      <td>207.30</td>\n",
       "      <td>1.7</td>\n",
       "      <td>C1CS[SH+]C1CCCCC(=O)O</td>\n",
       "      <td>C1CS[SH+][C@@H]1CCCCC(=O)O</td>\n",
       "    </tr>\n",
       "    <tr>\n",
       "      <th>103</th>\n",
       "      <td>131858174</td>\n",
       "      <td>1</td>\n",
       "      <td>1</td>\n",
       "      <td>2</td>\n",
       "      <td>206.30</td>\n",
       "      <td>1.8</td>\n",
       "      <td>C(CCC(=O)O)CC(CC[S])[S]</td>\n",
       "      <td>C(CCC(=O)O)CC(CC[S])[S]</td>\n",
       "    </tr>\n",
       "    <tr>\n",
       "      <th>1222</th>\n",
       "      <td>12248413</td>\n",
       "      <td>1</td>\n",
       "      <td>0</td>\n",
       "      <td>3</td>\n",
       "      <td>276.40</td>\n",
       "      <td>2.4</td>\n",
       "      <td>CC1=CC=C(C=C1)S(=O)(=O)CC2=CC=C(C=C2)OC</td>\n",
       "      <td>CC1=CC=C(C=C1)S(=O)(=O)CC2=CC=C(C=C2)OC</td>\n",
       "    </tr>\n",
       "    <tr>\n",
       "      <th>1223</th>\n",
       "      <td>10999865</td>\n",
       "      <td>1</td>\n",
       "      <td>0</td>\n",
       "      <td>3</td>\n",
       "      <td>262.33</td>\n",
       "      <td>2.0</td>\n",
       "      <td>COC1=CC=C(C=C1)CS(=O)(=O)C2=CC=CC=C2</td>\n",
       "      <td>COC1=CC=C(C=C1)CS(=O)(=O)C2=CC=CC=C2</td>\n",
       "    </tr>\n",
       "  </tbody>\n",
       "</table>\n",
       "</div>"
      ],
      "text/plain": [
       "            CID  count  HBondDonorCount  HBondAcceptorCount  MolecularWeight  \\\n",
       "46     22065545      1                1                   3           174.26   \n",
       "52    145103858      1                2                   3           207.30   \n",
       "103   131858174      1                1                   2           206.30   \n",
       "1222   12248413      1                0                   3           276.40   \n",
       "1223   10999865      1                0                   3           262.33   \n",
       "\n",
       "      XLogP                          CanonicalSMILES  \\\n",
       "46      1.6                        C(CCCC(=O)O)CCC=S   \n",
       "52      1.7                    C1CS[SH+]C1CCCCC(=O)O   \n",
       "103     1.8                  C(CCC(=O)O)CC(CC[S])[S]   \n",
       "1222    2.4  CC1=CC=C(C=C1)S(=O)(=O)CC2=CC=C(C=C2)OC   \n",
       "1223    2.0     COC1=CC=C(C=C1)CS(=O)(=O)C2=CC=CC=C2   \n",
       "\n",
       "                               IsomericSMILES  \n",
       "46                          C(CCCC(=O)O)CCC=S  \n",
       "52                 C1CS[SH+][C@@H]1CCCCC(=O)O  \n",
       "103                   C(CCC(=O)O)CC(CC[S])[S]  \n",
       "1222  CC1=CC=C(C=C1)S(=O)(=O)CC2=CC=C(C=C2)OC  \n",
       "1223     COC1=CC=C(C=C1)CS(=O)(=O)C2=CC=CC=C2  "
      ]
     },
     "execution_count": 199,
     "metadata": {},
     "output_type": "execute_result"
    }
   ],
   "source": [
    "df.head()"
   ]
  },
  {
   "cell_type": "code",
   "execution_count": 223,
   "metadata": {},
   "outputs": [],
   "source": [
    "# sort by count (descending) and cid (ascending)\n",
    "# pick top 10\n",
    "# print cid, isomeric smile, count\n",
    "# draw structure from isomeric smile\n",
    "\n",
    "def ex_8(df):\n",
    "    \n",
    "    # select top counts\n",
    "    df_sort = df.sort_values(by=['count', 'CID'], ascending=[False, True]).head(10)\n",
    "    \n",
    "    # print\n",
    "    #print(df_sort[['CID', 'IsomericSMILES', 'count']])\n",
    "    \n",
    "    # draw\n",
    "    mols = []\n",
    "    for smile in df_sort['IsomericSMILES']:\n",
    "        mol = Chem.MolFromSmiles(smile)\n",
    "        Chem.FindPotentialStereoBonds(mol)\n",
    "        mols.append(mol)\n",
    "    \n",
    "    legends = ['CID {}'.format(x) for x in df_sort['CID']]\n",
    "    img = Draw.MolsToGridImage(mols, molsPerRow=2, subImgSize=(400, 400), legends=legends)\n",
    "    display(img)\n",
    "    "
   ]
  },
  {
   "cell_type": "code",
   "execution_count": 224,
   "metadata": {
    "scrolled": false
   },
   "outputs": [
    {
     "data": {
      "image/png": "[encoded data removed]",
      "text/plain": [
       "<PIL.PngImagePlugin.PngImageFile image mode=RGB size=800x2000 at 0x2C09675DF98>"
      ]
     },
     "metadata": {},
     "output_type": "display_data"
    }
   ],
   "source": [
    "ex_8(df)"
   ]
  },
  {
   "cell_type": "code",
   "execution_count": null,
   "metadata": {},
   "outputs": [],
   "source": []
  }
 ],
 "metadata": {
  "kernelspec": {
   "display_name": "Python 3",
   "language": "python",
   "name": "python3"
  },
  "language_info": {
   "codemirror_mode": {
    "name": "ipython",
    "version": 3
   },
   "file_extension": ".py",
   "mimetype": "text/x-python",
   "name": "python",
   "nbconvert_exporter": "python",
   "pygments_lexer": "ipython3",
   "version": "3.7.1"
  }
 },
 "nbformat": 4,
 "nbformat_minor": 2
}
