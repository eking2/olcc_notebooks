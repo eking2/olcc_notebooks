{
 "cells": [
  {
   "cell_type": "code",
   "execution_count": 67,
   "metadata": {},
   "outputs": [],
   "source": [
    "import pandas as pd\n",
    "from io import StringIO\n",
    "import requests\n",
    "from pathlib import Path\n",
    "import time"
   ]
  },
  {
   "cell_type": "code",
   "execution_count": 30,
   "metadata": {},
   "outputs": [],
   "source": [
    "def pug_url_request(smile):\n",
    "    \n",
    "    # get cid number\n",
    "    \n",
    "    prolog = 'https://pubchem.ncbi.nlm.nih.gov/rest/pug'\n",
    "    url = f'{prolog}/compound/smiles/{smile}/cids/txt'\n",
    "    \n",
    "    r = requests.get(url)\n",
    "    #assert r.status_code == 200, f'invalid request for {smile}'\n",
    "    \n",
    "    print(r.url)\n",
    "    print(r.text)"
   ]
  },
  {
   "cell_type": "code",
   "execution_count": 31,
   "metadata": {},
   "outputs": [
    {
     "name": "stdout",
     "output_type": "stream",
     "text": [
      "https://pubchem.ncbi.nlm.nih.gov/rest/pug/compound/smiles/CC(C)CC1=CC=C(C=C1)C(C)C(=O)O/cids/txt\n",
      "3672\n",
      "\n"
     ]
    }
   ],
   "source": [
    "smile1 = \"CC(C)CC1=CC=C(C=C1)C(C)C(=O)O\"\n",
    "pug_url_request(smile1)"
   ]
  },
  {
   "cell_type": "code",
   "execution_count": 32,
   "metadata": {},
   "outputs": [
    {
     "name": "stdout",
     "output_type": "stream",
     "text": [
      "https://pubchem.ncbi.nlm.nih.gov/rest/pug/compound/smiles/CC1=C(%5BC@@%5D(SC1=O)(C)/C=C(%5CC)/C=C)O/cids/txt\n",
      "Status: 400\n",
      "Code: PUGREST.BadRequest\n",
      "Message: Unable to standardize the given structure - perhaps some special characters need to be escaped or data packed in a MIME form?\n",
      "Detail: error: \n",
      "Detail: status: 400\n",
      "Detail: output: Caught ncbi::CException: Standardization failed\n",
      "Detail: Output Log:\n",
      "Detail: Record 1: Warning: Cactvs Ensemble cannot be created from input string\n",
      "Detail: Record 1: Error: Unable to convert input into a compound object\n",
      "Detail: \n",
      "Detail: \n",
      "\n"
     ]
    }
   ],
   "source": [
    "# forward slash will not work in url path\n",
    "smile2 = \"CC1=C([C@@](SC1=O)(C)/C=C(\\C)/C=C)O\"\n",
    "pug_url_request(smile2)"
   ]
  },
  {
   "cell_type": "code",
   "execution_count": 28,
   "metadata": {},
   "outputs": [],
   "source": [
    "def pug_url_request2(smile):\n",
    "    \n",
    "    # get cid number\n",
    "    # encode structure as url argument to avoid special character issues\n",
    "    \n",
    "    prolog = 'https://pubchem.ncbi.nlm.nih.gov/rest/pug'\n",
    "    url = f'{prolog}/compound/smiles/cids/txt?smiles={smile}'\n",
    "    \n",
    "    r = requests.get(url)\n",
    "    #assert r.status_code == 200, f'invalid request for {smile}'\n",
    "    \n",
    "    print(r.url)\n",
    "    print(r.text)"
   ]
  },
  {
   "cell_type": "code",
   "execution_count": 29,
   "metadata": {},
   "outputs": [
    {
     "name": "stdout",
     "output_type": "stream",
     "text": [
      "https://pubchem.ncbi.nlm.nih.gov/rest/pug/compound/smiles/cids/txt?smiles=CC1=C(%5BC@@%5D(SC1=O)(C)/C=C(%5CC)/C=C)O\n",
      "135403829\n",
      "\n"
     ]
    }
   ],
   "source": [
    "pug_url_request2(smile2)"
   ]
  },
  {
   "cell_type": "code",
   "execution_count": 26,
   "metadata": {},
   "outputs": [],
   "source": [
    "def pug_url_request3(smile):\n",
    "    \n",
    "    # get cid number\n",
    "    # pass structure query as dictionary \n",
    "    \n",
    "    prolog = 'https://pubchem.ncbi.nlm.nih.gov/rest/pug'\n",
    "    url = f'{prolog}/compound/smiles/cids/txt'\n",
    "    \n",
    "    struct = {'smiles' : smile}\n",
    "    \n",
    "    r = requests.get(url, params = struct)\n",
    "    #assert r.status_code == 200, f'invalid request for {smile}'\n",
    "    \n",
    "    print(r.url)\n",
    "    print(r.text)"
   ]
  },
  {
   "cell_type": "code",
   "execution_count": 27,
   "metadata": {},
   "outputs": [
    {
     "name": "stdout",
     "output_type": "stream",
     "text": [
      "https://pubchem.ncbi.nlm.nih.gov/rest/pug/compound/smiles/cids/txt?smiles=CC1%3DC%28%5BC%40%40%5D%28SC1%3DO%29%28C%29%2FC%3DC%28%5CC%29%2FC%3DC%29O\n",
      "135403829\n",
      "\n"
     ]
    }
   ],
   "source": [
    "pug_url_request3(smile2)"
   ]
  },
  {
   "cell_type": "code",
   "execution_count": 36,
   "metadata": {},
   "outputs": [],
   "source": [
    "# retrieve in csv format\n",
    "# hbond donor and acceptor counts, TPSA, XLogP\n",
    "\n",
    "def pug_prop(smile, props):\n",
    "    \n",
    "    props_str = ','.join(props)\n",
    "    \n",
    "    prolog = 'https://pubchem.ncbi.nlm.nih.gov/rest/pug'\n",
    "    url = f'{prolog}/compound/smiles/property/{props_str}/csv?smiles={smile}'\n",
    "    \n",
    "    r = requests.get(url)\n",
    "    print(r.url)\n",
    "    assert r.status_code == 200, 'invalid request'\n",
    "    \n",
    "    df = pd.read_csv(StringIO(r.text))\n",
    "    \n",
    "    return df"
   ]
  },
  {
   "cell_type": "code",
   "execution_count": 39,
   "metadata": {},
   "outputs": [
    {
     "name": "stdout",
     "output_type": "stream",
     "text": [
      "https://pubchem.ncbi.nlm.nih.gov/rest/pug/compound/smiles/property/HBondDonorCount,HBondAcceptorCount,TPSA,XLogP/csv?smiles=C1=CC(=C(C=C1Cl)O)OC2=C(C=C(C=C2)Cl)Cl\n"
     ]
    },
    {
     "data": {
      "text/html": [
       "<div>\n",
       "<style scoped>\n",
       "    .dataframe tbody tr th:only-of-type {\n",
       "        vertical-align: middle;\n",
       "    }\n",
       "\n",
       "    .dataframe tbody tr th {\n",
       "        vertical-align: top;\n",
       "    }\n",
       "\n",
       "    .dataframe thead th {\n",
       "        text-align: right;\n",
       "    }\n",
       "</style>\n",
       "<table border=\"1\" class=\"dataframe\">\n",
       "  <thead>\n",
       "    <tr style=\"text-align: right;\">\n",
       "      <th></th>\n",
       "      <th>CID</th>\n",
       "      <th>HBondDonorCount</th>\n",
       "      <th>HBondAcceptorCount</th>\n",
       "      <th>TPSA</th>\n",
       "      <th>XLogP</th>\n",
       "    </tr>\n",
       "  </thead>\n",
       "  <tbody>\n",
       "    <tr>\n",
       "      <th>0</th>\n",
       "      <td>5564</td>\n",
       "      <td>1</td>\n",
       "      <td>2</td>\n",
       "      <td>29.5</td>\n",
       "      <td>5.0</td>\n",
       "    </tr>\n",
       "  </tbody>\n",
       "</table>\n",
       "</div>"
      ],
      "text/plain": [
       "    CID  HBondDonorCount  HBondAcceptorCount  TPSA  XLogP\n",
       "0  5564                1                   2  29.5    5.0"
      ]
     },
     "execution_count": 39,
     "metadata": {},
     "output_type": "execute_result"
    }
   ],
   "source": [
    "smile = \"C1=CC(=C(C=C1Cl)O)OC2=C(C=C(C=C2)Cl)Cl\"\n",
    "props = ['HBondDonorCount', 'HBondAcceptorCount', 'TPSA', 'XLogP']\n",
    "pug_prop(smile, props)"
   ]
  },
  {
   "cell_type": "code",
   "execution_count": 52,
   "metadata": {},
   "outputs": [],
   "source": [
    "def get_cid(inchi):\n",
    "    \n",
    "    prolog = 'https://pubchem.ncbi.nlm.nih.gov/rest/pug'\n",
    "    url = f'{prolog}/compound/InChI/cids/txt'\n",
    "    \n",
    "    struct = {'inchi' : inchi}\n",
    "    \n",
    "    r = requests.get(url, params=struct)\n",
    "    print(r.url)\n",
    "    \n",
    "    assert r.status_code == 200, 'invalid request'\n",
    "    \n",
    "    return r.text.strip()\n",
    "    "
   ]
  },
  {
   "cell_type": "code",
   "execution_count": 53,
   "metadata": {},
   "outputs": [
    {
     "name": "stdout",
     "output_type": "stream",
     "text": [
      "https://pubchem.ncbi.nlm.nih.gov/rest/pug/compound/InChI/cids/txt?inchi=InChI%3D1S%2FC17H14O4S%2Fc1-22%2819%2C20%2914-9-7-12%288-10-14%2915-11-21-17%2818%2916%2815%2913-5-3-2-4-6-13%2Fh2-10H%2C11H2%2C1H3\n"
     ]
    },
    {
     "data": {
      "text/plain": [
       "'5090'"
      ]
     },
     "execution_count": 53,
     "metadata": {},
     "output_type": "execute_result"
    }
   ],
   "source": [
    "inchi = \"InChI=1S/C17H14O4S/c1-22(19,20)14-9-7-12(8-10-14)15-11-21-17(18)16(15)13-5-3-2-4-6-13/h2-10H,11H2,1H3\"\n",
    "get_cid(inchi)"
   ]
  },
  {
   "cell_type": "code",
   "execution_count": 56,
   "metadata": {},
   "outputs": [],
   "source": [
    "def pug_post(smile):\n",
    "    \n",
    "    # use post method for multiple line structure, like sdf\n",
    "    \n",
    "    prolog = 'https://pubchem.ncbi.nlm.nih.gov/rest/pug'\n",
    "    url = f'{prolog}/compound/smiles/cids/txt'\n",
    "    \n",
    "    struct = {'smiles' : smile}\n",
    "    \n",
    "    # params sends as parameter and stored in url\n",
    "    # data not stored in url\n",
    "    \n",
    "    #r = requests.post(url, params=struct)\n",
    "    r = requests.post(url, data=struct)\n",
    "    \n",
    "    print(r.url)\n",
    "    print(r.text)\n"
   ]
  },
  {
   "cell_type": "code",
   "execution_count": 57,
   "metadata": {},
   "outputs": [
    {
     "name": "stdout",
     "output_type": "stream",
     "text": [
      "https://pubchem.ncbi.nlm.nih.gov/rest/pug/compound/smiles/cids/txt\n",
      "135403829\n",
      "\n"
     ]
    }
   ],
   "source": [
    "pug_post(smile2)"
   ]
  },
  {
   "cell_type": "code",
   "execution_count": 58,
   "metadata": {},
   "outputs": [],
   "source": [
    "mysdf = '''1983\n",
    "  -OEChem-07241917072D\n",
    "\n",
    " 20 20  0     0  0  0  0  0  0999 V2000\n",
    "    2.8660   -2.5950    0.0000 O   0  0  0  0  0  0  0  0  0  0  0  0\n",
    "    4.5981    1.4050    0.0000 O   0  0  0  0  0  0  0  0  0  0  0  0\n",
    "    2.8660    1.4050    0.0000 N   0  0  0  0  0  0  0  0  0  0  0  0\n",
    "    2.8660    0.4050    0.0000 C   0  0  0  0  0  0  0  0  0  0  0  0\n",
    "    3.7320   -0.0950    0.0000 C   0  0  0  0  0  0  0  0  0  0  0  0\n",
    "    2.0000   -0.0950    0.0000 C   0  0  0  0  0  0  0  0  0  0  0  0\n",
    "    3.7320   -1.0950    0.0000 C   0  0  0  0  0  0  0  0  0  0  0  0\n",
    "    2.0000   -1.0950    0.0000 C   0  0  0  0  0  0  0  0  0  0  0  0\n",
    "    2.8660   -1.5950    0.0000 C   0  0  0  0  0  0  0  0  0  0  0  0\n",
    "    3.7320    1.9050    0.0000 C   0  0  0  0  0  0  0  0  0  0  0  0\n",
    "    3.7320    2.9050    0.0000 C   0  0  0  0  0  0  0  0  0  0  0  0\n",
    "    4.2690    0.2150    0.0000 H   0  0  0  0  0  0  0  0  0  0  0  0\n",
    "    1.4631    0.2150    0.0000 H   0  0  0  0  0  0  0  0  0  0  0  0\n",
    "    2.3291    1.7150    0.0000 H   0  0  0  0  0  0  0  0  0  0  0  0\n",
    "    4.2690   -1.4050    0.0000 H   0  0  0  0  0  0  0  0  0  0  0  0\n",
    "    1.4631   -1.4050    0.0000 H   0  0  0  0  0  0  0  0  0  0  0  0\n",
    "    4.3520    2.9050    0.0000 H   0  0  0  0  0  0  0  0  0  0  0  0\n",
    "    3.7320    3.5250    0.0000 H   0  0  0  0  0  0  0  0  0  0  0  0\n",
    "    3.1120    2.9050    0.0000 H   0  0  0  0  0  0  0  0  0  0  0  0\n",
    "    2.3291   -2.9050    0.0000 H   0  0  0  0  0  0  0  0  0  0  0  0\n",
    "  1  9  1  0  0  0  0\n",
    "  1 20  1  0  0  0  0\n",
    "  2 10  2  0  0  0  0\n",
    "  3  4  1  0  0  0  0\n",
    "  3 10  1  0  0  0  0\n",
    "  3 14  1  0  0  0  0\n",
    "  4  5  2  0  0  0  0\n",
    "  4  6  1  0  0  0  0\n",
    "  5  7  1  0  0  0  0\n",
    "  5 12  1  0  0  0  0\n",
    "  6  8  2  0  0  0  0\n",
    "  6 13  1  0  0  0  0\n",
    "  7  9  2  0  0  0  0\n",
    "  7 15  1  0  0  0  0\n",
    "  8  9  1  0  0  0  0\n",
    "  8 16  1  0  0  0  0\n",
    " 10 11  1  0  0  0  0\n",
    " 11 17  1  0  0  0  0\n",
    " 11 18  1  0  0  0  0\n",
    " 11 19  1  0  0  0  0\n",
    "M  END\n",
    "> <PUBCHEM_COMPOUND_CID>\n",
    "1983\n",
    "\n",
    "> <PUBCHEM_COMPOUND_CANONICALIZED>\n",
    "1\n",
    "\n",
    "> <PUBCHEM_CACTVS_COMPLEXITY>\n",
    "139\n",
    "\n",
    "> <PUBCHEM_CACTVS_HBOND_ACCEPTOR>\n",
    "2\n",
    "\n",
    "> <PUBCHEM_CACTVS_HBOND_DONOR>\n",
    "2\n",
    "\n",
    "> <PUBCHEM_CACTVS_ROTATABLE_BOND>\n",
    "1\n",
    "$$$$\n",
    "'''"
   ]
  },
  {
   "cell_type": "code",
   "execution_count": 63,
   "metadata": {},
   "outputs": [],
   "source": [
    "def pug_sdf(sdf, out):\n",
    "    \n",
    "    prolog = 'https://pubchem.ncbi.nlm.nih.gov/rest/pug'\n",
    "    url = f'{prolog}/compound/sdf/{out}/txt'\n",
    "    \n",
    "    sdf = {'sdf' : sdf}\n",
    "    \n",
    "    r = requests.post(url, data=sdf)\n",
    "    \n",
    "    print(r.url)\n",
    "    print(r.text)\n",
    "    "
   ]
  },
  {
   "cell_type": "code",
   "execution_count": 64,
   "metadata": {},
   "outputs": [
    {
     "name": "stdout",
     "output_type": "stream",
     "text": [
      "https://pubchem.ncbi.nlm.nih.gov/rest/pug/compound/sdf/cids/txt\n",
      "1983\n",
      "\n"
     ]
    }
   ],
   "source": [
    "pug_sdf(mysdf, 'cids')"
   ]
  },
  {
   "cell_type": "code",
   "execution_count": 66,
   "metadata": {},
   "outputs": [
    {
     "name": "stdout",
     "output_type": "stream",
     "text": [
      "https://pubchem.ncbi.nlm.nih.gov/rest/pug/compound/sdf/synonyms/txt\n",
      "morphine\n",
      "Morphia\n",
      "Morphinum\n",
      "Morphium\n",
      "Morphina\n",
      "Morphin\n",
      "(-)-Morphine\n",
      "Duromorph\n",
      "DepoDur\n",
      "Meconium\n",
      "Morphinism\n",
      "Moscontin\n",
      "Ospalivina\n",
      "Morfina\n",
      "MS Contin\n",
      "l-Morphine\n",
      "57-27-2\n",
      "Dulcontin\n",
      "Nepenthe\n",
      "Roxanol\n",
      "MORPHINE SULFATE\n",
      "Infumorph\n",
      "Dreamer\n",
      "Morpho\n",
      "Avinza\n",
      "Hocus\n",
      "Kadian\n",
      "Unkie\n",
      "Cube juice\n",
      "Hard stuff\n",
      "Oramorph SR\n",
      "Statex SR\n",
      "Ms Emma\n",
      "Morphin [German]\n",
      "Morfina [Italian]\n",
      "Duramorph\n",
      "Morphina [Italian]\n",
      "M-Eslon\n",
      "Morphine [BAN]\n",
      "CCRIS 5762\n",
      "Dolcontin\n",
      "HSDB 2134\n",
      "(5R,6S,9R,13S,14R)-4,5-Epoxy-N-methyl-7-morphinen-3,6-diol\n",
      "UNII-76I7G6D29C\n",
      "CHEBI:17303\n",
      "CHEMBL70\n",
      "EINECS 200-320-2\n",
      "(5alpha,6alpha)-17-methyl-7,8-didehydro-4,5-epoxymorphinan-3,6-diol\n",
      "4,5alpha-Epoxy-17-methyl-7-morphinen-3,6alpha-diol\n",
      "7,8-Didehydro-4,5-epoxy-17-methyl-morphinan-3,6-diol\n",
      "(7R,7AS,12BS)-3-METHYL-2,3,4,4A,7,7A-HEXAHYDRO-1H-4,12-METHANO[1]BENZOFURO[3,2-E]ISOQUINOLINE-7,9-DIOL\n",
      "DEA No. 9300\n",
      "Morphine Anhydrate\n",
      "76I7G6D29C\n",
      "Morphine (BAN)\n",
      "RMS\n",
      "(5alpha,6alpha)-Didehydro-4,5-epoxy-17-methylmorphinan-3,6-diol\n",
      "Morphinan-3,6-alpha-diol, 7,8-didehydro-4,5-alpha-epoxy-17-methyl-\n",
      "Morphinan-3,6-diol, 7,8-didehydro-4,5-epoxy-17-methyl-, (5alpha,6alpha)-\n",
      "9H-9,9c-Iminoethanophenanthro(4,5-bcd)furan-3,5-diol, 4a,5,7a,8-tetrahydro-12-methyl-\n",
      "methyl[?]diol\n",
      "Aguettant\n",
      "Dinamorf\n",
      "Sevredol\n",
      "Dimorf\n",
      "(5alpha,6alpha)-7,8-Didehydro-4,5-epoxy-17-methylmorphinan-3,6-diol\n",
      "D-(-)-Morphine\n",
      "Oramorph\n",
      "(Morphine)\n",
      "Substitol (TN)\n",
      "(4R,4aR,7S,7aR,12bS)-3-methyl-2,4,4a,7,7a,13-hexahydro-1H-4,12-methanobenzofuro[3,2-e]isoquinoline-7,9-diol\n",
      "MOR\n",
      "(-)-(etorphine)\n",
      "(-)Morphine sulfate\n",
      "Morfina Dosa (TN)\n",
      "SDZ202-250\n",
      "NSC11441\n",
      "SDZ 202-250\n",
      "Epitope ID:116646\n",
      "Morphinan-3,6-diol, 7,8-didehydro-4,5-epoxy-17-methyl- (5alpha,6alpha)-\n",
      "SCHEMBL2997\n",
      "BIDD:GT0147\n",
      "GTPL1627\n",
      "DTXSID9023336\n",
      "Morphine 0.1 mg/ml in Methanol\n",
      "Morphine 1.0 mg/ml in Methanol\n",
      "BQJCRHHNABKAKU-KBQPJGBKSA-N\n",
      "ZINC3812983\n",
      "BDBM50000092\n",
      "AKOS015966554\n",
      "DB00295\n",
      "LS-91748\n",
      "MOI\n",
      "C01516\n",
      "D08233\n",
      "Q81225\n",
      "7,8-Didehydro-4,5-epoxy-17-methylmorphinan-3,6-diol\n",
      "UNII-1M5VY6ITRT component BQJCRHHNABKAKU-KBQPJGBKSA-N\n",
      "17-methyl-7,8-didehydro-4,5alpha-epoxymorphinan-3,6alpha-diol\n",
      "7,8-Didehydro-4,5-epoxy-17-methylmorphinan-3,6-diol(morphine)\n",
      "(5A,6A)-7,8-DIDEHYDRO-4,5-EPOXY-17-METHYLMORPHINIAN-3,6-DIOL\n",
      "(5alpha,6beta)-17-methyl-7,8-didehydro-4,5-epoxymorphinan-3,6-diol\n",
      "3-(4-Hydroxy-phenyl)-1-propyl-piperidine-3-carboxylic acid ethyl ester\n",
      "6-tert-Butyl-3-methyl-1,2,3,4,5,6-hexahydro-2,6-methano-benzo[d]azocine\n",
      "(-)(5.alpha.,6.alpha.)-7,8-Didehydro-4,5-epoxy-17-methylmorphinan-3,6-diol\n",
      "Morphinan-3,6-diol, 7,8-didehydro-4,5-epoxy-17-methyl- (5..alpha.,6.alpha.)-\n",
      "Morphine solution, 1.0 mg/mL in methanol, ampule of 1 mL, certified reference material\n",
      "(1S,5R,13R,14S)-12-oxa-4-azapentacyclo[9.6.1.01,13.05,17.07,18]octadeca-7(18),8,10,15-tetraene-10,14-diol\n",
      "(1S,5R,13R,14S,17R)-4-methyl-12-oxa-4-azapentacyclo[9.6.1.0^{1,13}.0^{5,17}.0^{7,18}]octadeca-7(18),8,10,15-tetraene-10,14-diol\n",
      "(1S,5R,13R,14S,17R)-4-methyl-12-oxa-4-azapentacyclo[9.6.1.0^{1,13}.0^{5,17}.0^{7,18}]octadeca-7,9,11(18),15-tetraene-10,14-diol\n",
      "(morphine) 4-methyl-(1S,5R,13R,14S,17R)-12-oxa-4-azapentacyclo[9.6.1.01,13.05,17.07,18]octadeca-7(18),8,10,15-tetraene-10,14-diol\n",
      "2-{4-[2,4-diamino-6-pteridinylmethyl(methyl)amino]phenylcarboxamido}pentanedioic acid(morphine)\n",
      "4-methyl-(1S,5R,13R,14S,17R)-12-oxa-4-azapentacyclo[9.6.1.01,13.05,17.07,18]octadeca-7(18),8,10,15-tetraene-10,14-diol\n",
      "4-methyl-(1S,5R,13R,14S,17R)-12-oxa-4-azapentacyclo[9.6.1.01,13.05,17.07,18]octadeca-7(18),8,10,15-tetraene-10,14-diol ; HydroChloride\n",
      "4-methyl-(1S,5R,13R,14S,17R)-12-oxa-4-azapentacyclo[9.6.1.01,13.05,17.07,18]octadeca-7(18),8,10,15-tetraene-10,14-diol ;sulphate salt(morphine)\n",
      "4-methyl-(1S,5R,13R,14S,17R)-12-oxa-4-azapentacyclo[9.6.1.01,13.05,17.07,18]octadeca-7(18),8,10,15-tetraene-10,14-diol((Morphine))\n",
      "4-methyl-(1S,5R,13R,14S,17R)-12-oxa-4-azapentacyclo[9.6.1.01,13.05,17.07,18]octadeca-7(18),8,10,15-tetraene-10,14-diol(morphine sulfate)\n",
      "4-methyl-(1S,5R,13R,14S,17R)-12-oxa-4-azapentacyclo[9.6.1.01,13.05,17.07,18]octadeca-7(18),8,10,15-tetraene-10,14-diol(morphine)\n",
      "4-methyl-(1S,5R,13R,14S,17R)-12-oxa-4-azapentacyclo[9.6.1.01,13.05,17.07,18]octadeca-7(18),8,10,15-tetraene-10,14-diol(Morphine)(HCl)\n",
      "4-methyl-(1S,5R,13R,14S,17R)-12-oxa-4-azapentacyclo[9.6.1.01,13.05,17.07,18]octadeca-7(18),8,10,15-tetraene-10,14-diol,sulfate(Morphinesulfate)\n",
      "4-methyl-(1S,5R,13R,14S,17R)-12-oxa-4-azapentacyclo[9.6.1.01,13.05,17.07,18]octadeca-7(18),8,10,15-tetraene-10,14-diolMorphine\n",
      "4-methyl-12-oxa-4-azapentacyclo[9.6.1.01,13.05,17.07,18]octadeca-7(18),8,10,15-tetraene-10,14-diol\n",
      "4-methyl-12-oxa-4-azapentacyclo[9.6.1.01,13.05,17.07,18]octadeca-7(18),8,10,15-tetraene-10,14-diol (morphine)\n",
      "4-methyl-12-oxa-4-azapentacyclo[9.6.1.01,13.05,17.07,18]octadeca-7(18),8,10,15-tetraene-10,14-diol(Morphine)\n",
      "6,11-Dimethyl-3-(3-methyl-but-2-enyl)-1,2,3,4,5,6-hexahydro-2,6-methano-benzo[d]azocin-8-ol(Morphine)\n",
      "9H-9,9c-Iminoethanophenanthro(4,5-bcd)furan-3,5-diol, 4alpha,5,7alpha,8-tetrahydro-12-methyl-\n",
      "Morphine;4-methyl-(1S,5R,13R,14S,17R)-12-oxa-4-azapentacyclo[9.6.1.01,13.05,17.07,18]octadeca-7(18),8,10,15-tetraene-10,14-diol\n",
      "\n"
     ]
    }
   ],
   "source": [
    "mysdf = Path('data/Structure2D_CID_5288826.sdf').read_text()\n",
    "pug_sdf(mysdf, 'synonyms')"
   ]
  },
  {
   "cell_type": "code",
   "execution_count": 73,
   "metadata": {},
   "outputs": [],
   "source": [
    "def pug_post_2a():\n",
    "\n",
    "    # glob all sdf files\n",
    "    compounds = list(Path('data').glob('lecture02*.sdf'))\n",
    "    \n",
    "    # properties to parse\n",
    "    props = ['XLogP', 'MolecularWeight', 'HBondDonorCount', 'HBondAcceptorCount', 'TPSA']\n",
    "    prop_str = ','.join(props)\n",
    "    \n",
    "    # setup url\n",
    "    prolog = 'https://pubchem.ncbi.nlm.nih.gov/rest/pug'\n",
    "    url = f'{prolog}/compound/sdf/property/{prop_str}/csv'\n",
    "    \n",
    "    df = pd.DataFrame()\n",
    "    for compound in compounds:\n",
    "        \n",
    "        # read sdf\n",
    "        sdf = compound.read_text()\n",
    "        \n",
    "        # setup request\n",
    "        sdf_dict = {'sdf' : sdf}\n",
    "        r = requests.post(url, data=sdf_dict)\n",
    "        \n",
    "        # concat csv data\n",
    "        df = pd.concat([df, pd.read_csv(StringIO(r.text))], ignore_index=True)\n",
    "        \n",
    "        # delay\n",
    "        time.sleep(1)\n",
    "        \n",
    "    return df"
   ]
  },
  {
   "cell_type": "code",
   "execution_count": 74,
   "metadata": {},
   "outputs": [
    {
     "data": {
      "text/html": [
       "<div>\n",
       "<style scoped>\n",
       "    .dataframe tbody tr th:only-of-type {\n",
       "        vertical-align: middle;\n",
       "    }\n",
       "\n",
       "    .dataframe tbody tr th {\n",
       "        vertical-align: top;\n",
       "    }\n",
       "\n",
       "    .dataframe thead th {\n",
       "        text-align: right;\n",
       "    }\n",
       "</style>\n",
       "<table border=\"1\" class=\"dataframe\">\n",
       "  <thead>\n",
       "    <tr style=\"text-align: right;\">\n",
       "      <th></th>\n",
       "      <th>CID</th>\n",
       "      <th>XLogP</th>\n",
       "      <th>MolecularWeight</th>\n",
       "      <th>HBondDonorCount</th>\n",
       "      <th>HBondAcceptorCount</th>\n",
       "      <th>TPSA</th>\n",
       "    </tr>\n",
       "  </thead>\n",
       "  <tbody>\n",
       "    <tr>\n",
       "      <th>0</th>\n",
       "      <td>126941</td>\n",
       "      <td>-1.8</td>\n",
       "      <td>454.400</td>\n",
       "      <td>5</td>\n",
       "      <td>12</td>\n",
       "      <td>211.0</td>\n",
       "    </tr>\n",
       "    <tr>\n",
       "      <th>1</th>\n",
       "      <td>3385</td>\n",
       "      <td>-0.9</td>\n",
       "      <td>130.080</td>\n",
       "      <td>2</td>\n",
       "      <td>3</td>\n",
       "      <td>58.2</td>\n",
       "    </tr>\n",
       "    <tr>\n",
       "      <th>2</th>\n",
       "      <td>3657</td>\n",
       "      <td>-1.8</td>\n",
       "      <td>76.055</td>\n",
       "      <td>3</td>\n",
       "      <td>2</td>\n",
       "      <td>75.4</td>\n",
       "    </tr>\n",
       "    <tr>\n",
       "      <th>3</th>\n",
       "      <td>667490</td>\n",
       "      <td>0.0</td>\n",
       "      <td>152.180</td>\n",
       "      <td>2</td>\n",
       "      <td>2</td>\n",
       "      <td>85.2</td>\n",
       "    </tr>\n",
       "    <tr>\n",
       "      <th>4</th>\n",
       "      <td>2723601</td>\n",
       "      <td>-0.1</td>\n",
       "      <td>167.190</td>\n",
       "      <td>3</td>\n",
       "      <td>2</td>\n",
       "      <td>111.0</td>\n",
       "    </tr>\n",
       "  </tbody>\n",
       "</table>\n",
       "</div>"
      ],
      "text/plain": [
       "       CID  XLogP  MolecularWeight  HBondDonorCount  HBondAcceptorCount   TPSA\n",
       "0   126941   -1.8          454.400                5                  12  211.0\n",
       "1     3385   -0.9          130.080                2                   3   58.2\n",
       "2     3657   -1.8           76.055                3                   2   75.4\n",
       "3   667490    0.0          152.180                2                   2   85.2\n",
       "4  2723601   -0.1          167.190                3                   2  111.0"
      ]
     },
     "execution_count": 74,
     "metadata": {},
     "output_type": "execute_result"
    }
   ],
   "source": [
    "pug_post_2a()"
   ]
  },
  {
   "cell_type": "code",
   "execution_count": null,
   "metadata": {},
   "outputs": [],
   "source": []
  }
 ],
 "metadata": {
  "kernelspec": {
   "display_name": "Python 3",
   "language": "python",
   "name": "python3"
  },
  "language_info": {
   "codemirror_mode": {
    "name": "ipython",
    "version": 3
   },
   "file_extension": ".py",
   "mimetype": "text/x-python",
   "name": "python",
   "nbconvert_exporter": "python",
   "pygments_lexer": "ipython3",
   "version": "3.7.3"
  }
 },
 "nbformat": 4,
 "nbformat_minor": 4
}
